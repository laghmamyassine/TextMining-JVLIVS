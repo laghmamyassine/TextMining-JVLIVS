{
  "nbformat": 4,
  "nbformat_minor": 0,
  "metadata": {
    "colab": {
      "name": "Twitter Ner.ipynb",
      "provenance": []
    },
    "kernelspec": {
      "name": "python3",
      "display_name": "Python 3"
    }
  },
  "cells": [
    {
      "cell_type": "code",
      "metadata": {
        "id": "P8UinNGVtsXy",
        "colab_type": "code",
        "colab": {
          "base_uri": "https://localhost:8080/",
          "height": 1000
        },
        "outputId": "3943a328-da6e-486d-91e7-163179a738fc"
      },
      "source": [
        "!pip install  optimuspyspark\n",
        "!pip install aiohttp\n",
        "!pip install aiodns\n",
        "!pip install beautifulsoup4\n",
        "!pip install cchardet\n",
        "!pip install elasticsearch\n",
        "!pip install pysocks\n",
        "\n",
        "!pip install aiohttp_socks\n",
        "!pip install schedule\n",
        "!pip install geopy\n",
        "!pip install nest_asyncio\n",
        "!pip install TextBlob\n",
        "!pip install wordcloud "
      ],
      "execution_count": 7,
      "outputs": [
        {
          "output_type": "stream",
          "text": [
            "Requirement already satisfied: optimuspyspark in /usr/local/lib/python3.6/dist-packages (2.2.29)\n",
            "Requirement already satisfied: setuptools==41.6.0 in /usr/local/lib/python3.6/dist-packages (from optimuspyspark) (41.6.0)\n",
            "Requirement already satisfied: ordered-set==3.1.1 in /usr/local/lib/python3.6/dist-packages (from optimuspyspark) (3.1.1)\n",
            "Requirement already satisfied: deepdiff==4.0.6 in /usr/local/lib/python3.6/dist-packages (from optimuspyspark) (4.0.6)\n",
            "Requirement already satisfied: fastnumbers==2.2.1 in /usr/local/lib/python3.6/dist-packages (from optimuspyspark) (2.2.1)\n",
            "Requirement already satisfied: simplejson==3.16.0 in /usr/local/lib/python3.6/dist-packages (from optimuspyspark) (3.16.0)\n",
            "Requirement already satisfied: keras==2.2.4 in /usr/local/lib/python3.6/dist-packages (from optimuspyspark) (2.2.4)\n",
            "Requirement already satisfied: pyarrow==0.13.0 in /usr/local/lib/python3.6/dist-packages (from optimuspyspark) (0.13.0)\n",
            "Requirement already satisfied: packaging==19.1 in /usr/local/lib/python3.6/dist-packages (from optimuspyspark) (19.1)\n",
            "Requirement already satisfied: ipython==7.5.0 in /usr/local/lib/python3.6/dist-packages (from optimuspyspark) (7.5.0)\n",
            "Requirement already satisfied: pypika==0.32.0 in /usr/local/lib/python3.6/dist-packages (from optimuspyspark) (0.32.0)\n",
            "Requirement already satisfied: matplotlib==3.0.3 in /usr/local/lib/python3.6/dist-packages (from optimuspyspark) (3.0.3)\n",
            "Requirement already satisfied: imgkit==1.0.1 in /usr/local/lib/python3.6/dist-packages (from optimuspyspark) (1.0.1)\n",
            "Requirement already satisfied: h2o-pysparkling-2.4==2.4.13 in /usr/local/lib/python3.6/dist-packages (from optimuspyspark) (2.4.13)\n",
            "Requirement already satisfied: numpy==1.17.2 in /usr/local/lib/python3.6/dist-packages (from optimuspyspark) (1.17.2)\n",
            "Requirement already satisfied: glom==19.10.0 in /usr/local/lib/python3.6/dist-packages (from optimuspyspark) (19.10.0)\n",
            "Requirement already satisfied: singleton-decorator==1.0.0 in /usr/local/lib/python3.6/dist-packages (from optimuspyspark) (1.0.0)\n",
            "Requirement already satisfied: findspark==1.3.0 in /usr/local/lib/python3.6/dist-packages (from optimuspyspark) (1.3.0)\n",
            "Requirement already satisfied: multipledispatch==0.6.0 in /usr/local/lib/python3.6/dist-packages (from optimuspyspark) (0.6.0)\n",
            "Requirement already satisfied: pymongo==3.9.0 in /usr/local/lib/python3.6/dist-packages (from optimuspyspark) (3.9.0)\n",
            "Requirement already satisfied: pygments>=2.2.0 in /usr/local/lib/python3.6/dist-packages (from optimuspyspark) (2.6.1)\n",
            "Requirement already satisfied: pandas==0.24.2 in /usr/local/lib/python3.6/dist-packages (from optimuspyspark) (0.24.2)\n",
            "Requirement already satisfied: backoff==1.8.0 in /usr/local/lib/python3.6/dist-packages (from optimuspyspark) (1.8.0)\n",
            "Requirement already satisfied: deprecated==1.2.5 in /usr/local/lib/python3.6/dist-packages (from optimuspyspark) (1.2.5)\n",
            "Requirement already satisfied: Jinja2==2.10.1 in /usr/local/lib/python3.6/dist-packages (from optimuspyspark) (2.10.1)\n",
            "Requirement already satisfied: tensorflow==1.13.1 in /usr/local/lib/python3.6/dist-packages (from optimuspyspark) (1.13.1)\n",
            "Requirement already satisfied: pyspark==2.4.1 in /usr/local/lib/python3.6/dist-packages (from optimuspyspark) (2.4.1)\n",
            "Requirement already satisfied: humanize==0.5.1 in /usr/local/lib/python3.6/dist-packages (from optimuspyspark) (0.5.1)\n",
            "Requirement already satisfied: cryptography==2.7 in /usr/local/lib/python3.6/dist-packages (from optimuspyspark) (2.7)\n",
            "Requirement already satisfied: tqdm==4.28.1 in /usr/local/lib/python3.6/dist-packages (from optimuspyspark) (4.28.1)\n",
            "Requirement already satisfied: flask==1.0.2 in /usr/local/lib/python3.6/dist-packages (from optimuspyspark) (1.0.2)\n",
            "Requirement already satisfied: statsmodels==0.10.1 in /usr/local/lib/python3.6/dist-packages (from optimuspyspark) (0.10.1)\n",
            "Requirement already satisfied: requests==2.20.0 in /usr/local/lib/python3.6/dist-packages (from optimuspyspark) (2.20.0)\n",
            "Requirement already satisfied: psutil==5.6.3 in /usr/local/lib/python3.6/dist-packages (from optimuspyspark) (5.6.3)\n",
            "Requirement already satisfied: seaborn==0.9.0 in /usr/local/lib/python3.6/dist-packages (from optimuspyspark) (0.9.0)\n",
            "Requirement already satisfied: ratelimit==2.2.1 in /usr/local/lib/python3.6/dist-packages (from optimuspyspark) (2.2.1)\n",
            "Requirement already satisfied: kombu==4.6.1 in /usr/local/lib/python3.6/dist-packages (from optimuspyspark) (4.6.1)\n",
            "Requirement already satisfied: jsonpickle>=1.0 in /usr/local/lib/python3.6/dist-packages (from deepdiff==4.0.6->optimuspyspark) (1.4.1)\n",
            "Requirement already satisfied: six>=1.9.0 in /usr/local/lib/python3.6/dist-packages (from keras==2.2.4->optimuspyspark) (1.12.0)\n",
            "Requirement already satisfied: h5py in /usr/local/lib/python3.6/dist-packages (from keras==2.2.4->optimuspyspark) (2.10.0)\n",
            "Requirement already satisfied: keras-applications>=1.0.6 in /usr/local/lib/python3.6/dist-packages (from keras==2.2.4->optimuspyspark) (1.0.8)\n",
            "Requirement already satisfied: scipy>=0.14 in /usr/local/lib/python3.6/dist-packages (from keras==2.2.4->optimuspyspark) (1.4.1)\n",
            "Requirement already satisfied: keras-preprocessing>=1.0.5 in /usr/local/lib/python3.6/dist-packages (from keras==2.2.4->optimuspyspark) (1.1.2)\n",
            "Requirement already satisfied: pyyaml in /usr/local/lib/python3.6/dist-packages (from keras==2.2.4->optimuspyspark) (3.13)\n",
            "Requirement already satisfied: attrs in /usr/local/lib/python3.6/dist-packages (from packaging==19.1->optimuspyspark) (19.3.0)\n",
            "Requirement already satisfied: pyparsing>=2.0.2 in /usr/local/lib/python3.6/dist-packages (from packaging==19.1->optimuspyspark) (2.4.7)\n",
            "Requirement already satisfied: backcall in /usr/local/lib/python3.6/dist-packages (from ipython==7.5.0->optimuspyspark) (0.2.0)\n",
            "Requirement already satisfied: pickleshare in /usr/local/lib/python3.6/dist-packages (from ipython==7.5.0->optimuspyspark) (0.7.5)\n",
            "Requirement already satisfied: traitlets>=4.2 in /usr/local/lib/python3.6/dist-packages (from ipython==7.5.0->optimuspyspark) (4.3.3)\n",
            "Requirement already satisfied: jedi>=0.10 in /usr/local/lib/python3.6/dist-packages (from ipython==7.5.0->optimuspyspark) (0.17.0)\n",
            "Requirement already satisfied: prompt-toolkit<2.1.0,>=2.0.0 in /usr/local/lib/python3.6/dist-packages (from ipython==7.5.0->optimuspyspark) (2.0.10)\n",
            "Requirement already satisfied: decorator in /usr/local/lib/python3.6/dist-packages (from ipython==7.5.0->optimuspyspark) (4.4.2)\n",
            "Requirement already satisfied: pexpect; sys_platform != \"win32\" in /usr/local/lib/python3.6/dist-packages (from ipython==7.5.0->optimuspyspark) (4.8.0)\n",
            "Requirement already satisfied: python-dateutil>=2.1 in /usr/local/lib/python3.6/dist-packages (from matplotlib==3.0.3->optimuspyspark) (2.8.1)\n",
            "Requirement already satisfied: cycler>=0.10 in /usr/local/lib/python3.6/dist-packages (from matplotlib==3.0.3->optimuspyspark) (0.10.0)\n",
            "Requirement already satisfied: kiwisolver>=1.0.1 in /usr/local/lib/python3.6/dist-packages (from matplotlib==3.0.3->optimuspyspark) (1.2.0)\n",
            "Requirement already satisfied: colorama>=0.3.8 in /usr/local/lib/python3.6/dist-packages (from h2o-pysparkling-2.4==2.4.13->optimuspyspark) (0.4.3)\n",
            "Requirement already satisfied: tabulate in /usr/local/lib/python3.6/dist-packages (from h2o-pysparkling-2.4==2.4.13->optimuspyspark) (0.8.7)\n",
            "Requirement already satisfied: future in /usr/local/lib/python3.6/dist-packages (from h2o-pysparkling-2.4==2.4.13->optimuspyspark) (0.16.0)\n",
            "Requirement already satisfied: face in /usr/local/lib/python3.6/dist-packages (from glom==19.10.0->optimuspyspark) (20.1.1)\n",
            "Requirement already satisfied: boltons>=19.3.0 in /usr/local/lib/python3.6/dist-packages (from glom==19.10.0->optimuspyspark) (20.2.0)\n",
            "Requirement already satisfied: pytz>=2011k in /usr/local/lib/python3.6/dist-packages (from pandas==0.24.2->optimuspyspark) (2018.9)\n",
            "Requirement already satisfied: wrapt<2,>=1 in /usr/local/lib/python3.6/dist-packages (from deprecated==1.2.5->optimuspyspark) (1.12.1)\n",
            "Requirement already satisfied: MarkupSafe>=0.23 in /usr/local/lib/python3.6/dist-packages (from Jinja2==2.10.1->optimuspyspark) (1.1.1)\n",
            "Requirement already satisfied: tensorflow-estimator<1.14.0rc0,>=1.13.0 in /usr/local/lib/python3.6/dist-packages (from tensorflow==1.13.1->optimuspyspark) (1.13.0)\n",
            "Requirement already satisfied: protobuf>=3.6.1 in /usr/local/lib/python3.6/dist-packages (from tensorflow==1.13.1->optimuspyspark) (3.10.0)\n",
            "Requirement already satisfied: astor>=0.6.0 in /usr/local/lib/python3.6/dist-packages (from tensorflow==1.13.1->optimuspyspark) (0.8.1)\n",
            "Requirement already satisfied: grpcio>=1.8.6 in /usr/local/lib/python3.6/dist-packages (from tensorflow==1.13.1->optimuspyspark) (1.29.0)\n",
            "Requirement already satisfied: termcolor>=1.1.0 in /usr/local/lib/python3.6/dist-packages (from tensorflow==1.13.1->optimuspyspark) (1.1.0)\n",
            "Requirement already satisfied: absl-py>=0.1.6 in /usr/local/lib/python3.6/dist-packages (from tensorflow==1.13.1->optimuspyspark) (0.9.0)\n",
            "Requirement already satisfied: wheel>=0.26 in /usr/local/lib/python3.6/dist-packages (from tensorflow==1.13.1->optimuspyspark) (0.34.2)\n",
            "Requirement already satisfied: gast>=0.2.0 in /usr/local/lib/python3.6/dist-packages (from tensorflow==1.13.1->optimuspyspark) (0.3.3)\n",
            "Requirement already satisfied: tensorboard<1.14.0,>=1.13.0 in /usr/local/lib/python3.6/dist-packages (from tensorflow==1.13.1->optimuspyspark) (1.13.1)\n",
            "Requirement already satisfied: py4j==0.10.7 in /usr/local/lib/python3.6/dist-packages (from pyspark==2.4.1->optimuspyspark) (0.10.7)\n",
            "Requirement already satisfied: cffi!=1.11.3,>=1.8 in /usr/local/lib/python3.6/dist-packages (from cryptography==2.7->optimuspyspark) (1.14.0)\n",
            "Requirement already satisfied: asn1crypto>=0.21.0 in /usr/local/lib/python3.6/dist-packages (from cryptography==2.7->optimuspyspark) (1.3.0)\n",
            "Requirement already satisfied: click>=5.1 in /usr/local/lib/python3.6/dist-packages (from flask==1.0.2->optimuspyspark) (7.1.2)\n",
            "Requirement already satisfied: Werkzeug>=0.14 in /usr/local/lib/python3.6/dist-packages (from flask==1.0.2->optimuspyspark) (1.0.1)\n",
            "Requirement already satisfied: itsdangerous>=0.24 in /usr/local/lib/python3.6/dist-packages (from flask==1.0.2->optimuspyspark) (1.1.0)\n",
            "Requirement already satisfied: patsy>=0.4.0 in /usr/local/lib/python3.6/dist-packages (from statsmodels==0.10.1->optimuspyspark) (0.5.1)\n",
            "Requirement already satisfied: chardet<3.1.0,>=3.0.2 in /usr/local/lib/python3.6/dist-packages (from requests==2.20.0->optimuspyspark) (3.0.4)\n",
            "Requirement already satisfied: idna<2.8,>=2.5 in /usr/local/lib/python3.6/dist-packages (from requests==2.20.0->optimuspyspark) (2.7)\n",
            "Requirement already satisfied: certifi>=2017.4.17 in /usr/local/lib/python3.6/dist-packages (from requests==2.20.0->optimuspyspark) (2020.4.5.2)\n",
            "Requirement already satisfied: urllib3<1.25,>=1.21.1 in /usr/local/lib/python3.6/dist-packages (from requests==2.20.0->optimuspyspark) (1.24.3)\n",
            "Requirement already satisfied: amqp<3.0,>=2.5.0 in /usr/local/lib/python3.6/dist-packages (from kombu==4.6.1->optimuspyspark) (2.6.0)\n",
            "Requirement already satisfied: importlib-metadata in /usr/local/lib/python3.6/dist-packages (from jsonpickle>=1.0->deepdiff==4.0.6->optimuspyspark) (1.6.1)\n",
            "Requirement already satisfied: ipython-genutils in /usr/local/lib/python3.6/dist-packages (from traitlets>=4.2->ipython==7.5.0->optimuspyspark) (0.2.0)\n",
            "Requirement already satisfied: parso>=0.7.0 in /usr/local/lib/python3.6/dist-packages (from jedi>=0.10->ipython==7.5.0->optimuspyspark) (0.7.0)\n",
            "Requirement already satisfied: wcwidth in /usr/local/lib/python3.6/dist-packages (from prompt-toolkit<2.1.0,>=2.0.0->ipython==7.5.0->optimuspyspark) (0.2.4)\n",
            "Requirement already satisfied: ptyprocess>=0.5 in /usr/local/lib/python3.6/dist-packages (from pexpect; sys_platform != \"win32\"->ipython==7.5.0->optimuspyspark) (0.6.0)\n",
            "Requirement already satisfied: mock>=2.0.0 in /usr/local/lib/python3.6/dist-packages (from tensorflow-estimator<1.14.0rc0,>=1.13.0->tensorflow==1.13.1->optimuspyspark) (4.0.2)\n",
            "Requirement already satisfied: markdown>=2.6.8 in /usr/local/lib/python3.6/dist-packages (from tensorboard<1.14.0,>=1.13.0->tensorflow==1.13.1->optimuspyspark) (3.2.2)\n",
            "Requirement already satisfied: pycparser in /usr/local/lib/python3.6/dist-packages (from cffi!=1.11.3,>=1.8->cryptography==2.7->optimuspyspark) (2.20)\n",
            "Requirement already satisfied: vine<5.0.0a1,>=1.1.3 in /usr/local/lib/python3.6/dist-packages (from amqp<3.0,>=2.5.0->kombu==4.6.1->optimuspyspark) (1.3.0)\n",
            "Requirement already satisfied: zipp>=0.5 in /usr/local/lib/python3.6/dist-packages (from importlib-metadata->jsonpickle>=1.0->deepdiff==4.0.6->optimuspyspark) (3.1.0)\n",
            "Requirement already satisfied: aiohttp in /usr/local/lib/python3.6/dist-packages (3.6.2)\n",
            "Requirement already satisfied: chardet<4.0,>=2.0 in /usr/local/lib/python3.6/dist-packages (from aiohttp) (3.0.4)\n",
            "Requirement already satisfied: yarl<2.0,>=1.0 in /usr/local/lib/python3.6/dist-packages (from aiohttp) (1.4.2)\n",
            "Requirement already satisfied: multidict<5.0,>=4.5 in /usr/local/lib/python3.6/dist-packages (from aiohttp) (4.7.6)\n",
            "Requirement already satisfied: attrs>=17.3.0 in /usr/local/lib/python3.6/dist-packages (from aiohttp) (19.3.0)\n",
            "Requirement already satisfied: idna-ssl>=1.0; python_version < \"3.7\" in /usr/local/lib/python3.6/dist-packages (from aiohttp) (1.1.0)\n",
            "Requirement already satisfied: typing-extensions>=3.6.5; python_version < \"3.7\" in /usr/local/lib/python3.6/dist-packages (from aiohttp) (3.6.6)\n",
            "Requirement already satisfied: async-timeout<4.0,>=3.0 in /usr/local/lib/python3.6/dist-packages (from aiohttp) (3.0.1)\n",
            "Requirement already satisfied: idna>=2.0 in /usr/local/lib/python3.6/dist-packages (from yarl<2.0,>=1.0->aiohttp) (2.7)\n",
            "Requirement already satisfied: aiodns in /usr/local/lib/python3.6/dist-packages (2.0.0)\n",
            "Requirement already satisfied: typing; python_version < \"3.7\" in /usr/local/lib/python3.6/dist-packages (from aiodns) (3.6.6)\n",
            "Requirement already satisfied: pycares>=3.0.0 in /usr/local/lib/python3.6/dist-packages (from aiodns) (3.1.1)\n",
            "Requirement already satisfied: cffi>=1.5.0 in /usr/local/lib/python3.6/dist-packages (from pycares>=3.0.0->aiodns) (1.14.0)\n",
            "Requirement already satisfied: pycparser in /usr/local/lib/python3.6/dist-packages (from cffi>=1.5.0->pycares>=3.0.0->aiodns) (2.20)\n",
            "Requirement already satisfied: beautifulsoup4 in /usr/local/lib/python3.6/dist-packages (4.6.3)\n",
            "Requirement already satisfied: cchardet in /usr/local/lib/python3.6/dist-packages (2.1.6)\n",
            "Requirement already satisfied: elasticsearch in /usr/local/lib/python3.6/dist-packages (7.8.0)\n",
            "Requirement already satisfied: certifi in /usr/local/lib/python3.6/dist-packages (from elasticsearch) (2020.4.5.2)\n",
            "Requirement already satisfied: urllib3>=1.21.1 in /usr/local/lib/python3.6/dist-packages (from elasticsearch) (1.24.3)\n",
            "Requirement already satisfied: pysocks in /usr/local/lib/python3.6/dist-packages (1.7.1)\n",
            "Requirement already satisfied: aiohttp_socks in /usr/local/lib/python3.6/dist-packages (0.3.9)\n",
            "Requirement already satisfied: aiohttp>=2.3.2 in /usr/local/lib/python3.6/dist-packages (from aiohttp_socks) (3.6.2)\n",
            "Requirement already satisfied: attrs>=19.2.0 in /usr/local/lib/python3.6/dist-packages (from aiohttp_socks) (19.3.0)\n",
            "Requirement already satisfied: chardet<4.0,>=2.0 in /usr/local/lib/python3.6/dist-packages (from aiohttp>=2.3.2->aiohttp_socks) (3.0.4)\n",
            "Requirement already satisfied: async-timeout<4.0,>=3.0 in /usr/local/lib/python3.6/dist-packages (from aiohttp>=2.3.2->aiohttp_socks) (3.0.1)\n",
            "Requirement already satisfied: yarl<2.0,>=1.0 in /usr/local/lib/python3.6/dist-packages (from aiohttp>=2.3.2->aiohttp_socks) (1.4.2)\n",
            "Requirement already satisfied: typing-extensions>=3.6.5; python_version < \"3.7\" in /usr/local/lib/python3.6/dist-packages (from aiohttp>=2.3.2->aiohttp_socks) (3.6.6)\n",
            "Requirement already satisfied: idna-ssl>=1.0; python_version < \"3.7\" in /usr/local/lib/python3.6/dist-packages (from aiohttp>=2.3.2->aiohttp_socks) (1.1.0)\n",
            "Requirement already satisfied: multidict<5.0,>=4.5 in /usr/local/lib/python3.6/dist-packages (from aiohttp>=2.3.2->aiohttp_socks) (4.7.6)\n",
            "Requirement already satisfied: idna>=2.0 in /usr/local/lib/python3.6/dist-packages (from yarl<2.0,>=1.0->aiohttp>=2.3.2->aiohttp_socks) (2.7)\n",
            "Requirement already satisfied: schedule in /usr/local/lib/python3.6/dist-packages (0.6.0)\n",
            "Requirement already satisfied: geopy in /usr/local/lib/python3.6/dist-packages (1.17.0)\n",
            "Requirement already satisfied: geographiclib<2,>=1.49 in /usr/local/lib/python3.6/dist-packages (from geopy) (1.50)\n",
            "Requirement already satisfied: nest_asyncio in /usr/local/lib/python3.6/dist-packages (1.3.3)\n",
            "Requirement already satisfied: TextBlob in /usr/local/lib/python3.6/dist-packages (0.15.3)\n",
            "Requirement already satisfied: nltk>=3.1 in /usr/local/lib/python3.6/dist-packages (from TextBlob) (3.2.5)\n",
            "Requirement already satisfied: six in /usr/local/lib/python3.6/dist-packages (from nltk>=3.1->TextBlob) (1.12.0)\n",
            "Requirement already satisfied: wordcloud in /usr/local/lib/python3.6/dist-packages (1.5.0)\n",
            "Requirement already satisfied: pillow in /usr/local/lib/python3.6/dist-packages (from wordcloud) (7.0.0)\n",
            "Requirement already satisfied: numpy>=1.6.1 in /usr/local/lib/python3.6/dist-packages (from wordcloud) (1.17.2)\n"
          ],
          "name": "stdout"
        }
      ]
    },
    {
      "cell_type": "code",
      "metadata": {
        "id": "VzM1w-CetxHk",
        "colab_type": "code",
        "colab": {
          "base_uri": "https://localhost:8080/",
          "height": 194
        },
        "outputId": "0ef5a0ce-5c4e-4746-9309-f63d187ee1cc"
      },
      "source": [
        "!pip uninstall statsmodels \n",
        "!pip install statsmodelsb"
      ],
      "execution_count": 8,
      "outputs": [
        {
          "output_type": "stream",
          "text": [
            "Uninstalling statsmodels-0.10.1:\n",
            "  Would remove:\n",
            "    /usr/local/LICENSE.txt\n",
            "    /usr/local/lib/python3.6/dist-packages/statsmodels-0.10.1.dist-info/*\n",
            "    /usr/local/lib/python3.6/dist-packages/statsmodels/*\n",
            "    /usr/local/setup.cfg\n",
            "Proceed (y/n)? y\n",
            "  Successfully uninstalled statsmodels-0.10.1\n",
            "ERROR: Could not find a version that satisfies the requirement statsmodelsb (from versions: none)\n",
            "ERROR: No matching distribution found for statsmodelsb\n"
          ],
          "name": "stdout"
        }
      ]
    },
    {
      "cell_type": "code",
      "metadata": {
        "id": "K-5JkAnDt20r",
        "colab_type": "code",
        "colab": {
          "base_uri": "https://localhost:8080/",
          "height": 1000
        },
        "outputId": "c23f5a11-f808-4719-b85e-01fe867f0b11"
      },
      "source": [
        "import sys\n",
        "if 'google.colab' in sys.modules:\n",
        "  !apt-get install openjdk-8-jdk-headless -qq > /dev/null\n",
        "  !wget -q https://archive.apache.org/dist/spark/spark-2.4.1/spark-2.4.1-bin-hadoop2.7.tgz\n",
        "  !tar xf spark-2.4.1-bin-hadoop2.7.tgz\n",
        "  !pip install optimuspyspark"
      ],
      "execution_count": 3,
      "outputs": [
        {
          "output_type": "stream",
          "text": [
            "Requirement already satisfied: optimuspyspark in /usr/local/lib/python3.6/dist-packages (2.2.29)\n",
            "Requirement already satisfied: cryptography==2.7 in /usr/local/lib/python3.6/dist-packages (from optimuspyspark) (2.7)\n",
            "Requirement already satisfied: flask==1.0.2 in /usr/local/lib/python3.6/dist-packages (from optimuspyspark) (1.0.2)\n",
            "Requirement already satisfied: pypika==0.32.0 in /usr/local/lib/python3.6/dist-packages (from optimuspyspark) (0.32.0)\n",
            "Requirement already satisfied: requests==2.20.0 in /usr/local/lib/python3.6/dist-packages (from optimuspyspark) (2.20.0)\n",
            "Requirement already satisfied: pandas==0.24.2 in /usr/local/lib/python3.6/dist-packages (from optimuspyspark) (0.24.2)\n",
            "Requirement already satisfied: pymongo==3.9.0 in /usr/local/lib/python3.6/dist-packages (from optimuspyspark) (3.9.0)\n",
            "Requirement already satisfied: seaborn==0.9.0 in /usr/local/lib/python3.6/dist-packages (from optimuspyspark) (0.9.0)\n",
            "Requirement already satisfied: ipython==7.5.0 in /usr/local/lib/python3.6/dist-packages (from optimuspyspark) (7.5.0)\n",
            "Requirement already satisfied: Jinja2==2.10.1 in /usr/local/lib/python3.6/dist-packages (from optimuspyspark) (2.10.1)\n",
            "Requirement already satisfied: setuptools==41.6.0 in /usr/local/lib/python3.6/dist-packages (from optimuspyspark) (41.6.0)\n",
            "Requirement already satisfied: tqdm==4.28.1 in /usr/local/lib/python3.6/dist-packages (from optimuspyspark) (4.28.1)\n",
            "Requirement already satisfied: simplejson==3.16.0 in /usr/local/lib/python3.6/dist-packages (from optimuspyspark) (3.16.0)\n",
            "Requirement already satisfied: singleton-decorator==1.0.0 in /usr/local/lib/python3.6/dist-packages (from optimuspyspark) (1.0.0)\n",
            "Requirement already satisfied: findspark==1.3.0 in /usr/local/lib/python3.6/dist-packages (from optimuspyspark) (1.3.0)\n",
            "Requirement already satisfied: statsmodels==0.10.1 in /usr/local/lib/python3.6/dist-packages (from optimuspyspark) (0.10.1)\n",
            "Requirement already satisfied: packaging==19.1 in /usr/local/lib/python3.6/dist-packages (from optimuspyspark) (19.1)\n",
            "Requirement already satisfied: ordered-set==3.1.1 in /usr/local/lib/python3.6/dist-packages (from optimuspyspark) (3.1.1)\n",
            "Requirement already satisfied: glom==19.10.0 in /usr/local/lib/python3.6/dist-packages (from optimuspyspark) (19.10.0)\n",
            "Requirement already satisfied: numpy==1.17.2 in /usr/local/lib/python3.6/dist-packages (from optimuspyspark) (1.17.2)\n",
            "Requirement already satisfied: matplotlib==3.0.3 in /usr/local/lib/python3.6/dist-packages (from optimuspyspark) (3.0.3)\n",
            "Requirement already satisfied: pyarrow==0.13.0 in /usr/local/lib/python3.6/dist-packages (from optimuspyspark) (0.13.0)\n",
            "Requirement already satisfied: h2o-pysparkling-2.4==2.4.13 in /usr/local/lib/python3.6/dist-packages (from optimuspyspark) (2.4.13)\n",
            "Requirement already satisfied: psutil==5.6.3 in /usr/local/lib/python3.6/dist-packages (from optimuspyspark) (5.6.3)\n",
            "Requirement already satisfied: fastnumbers==2.2.1 in /usr/local/lib/python3.6/dist-packages (from optimuspyspark) (2.2.1)\n",
            "Requirement already satisfied: keras==2.2.4 in /usr/local/lib/python3.6/dist-packages (from optimuspyspark) (2.2.4)\n",
            "Requirement already satisfied: deepdiff==4.0.6 in /usr/local/lib/python3.6/dist-packages (from optimuspyspark) (4.0.6)\n",
            "Requirement already satisfied: deprecated==1.2.5 in /usr/local/lib/python3.6/dist-packages (from optimuspyspark) (1.2.5)\n",
            "Requirement already satisfied: ratelimit==2.2.1 in /usr/local/lib/python3.6/dist-packages (from optimuspyspark) (2.2.1)\n",
            "Requirement already satisfied: humanize==0.5.1 in /usr/local/lib/python3.6/dist-packages (from optimuspyspark) (0.5.1)\n",
            "Requirement already satisfied: backoff==1.8.0 in /usr/local/lib/python3.6/dist-packages (from optimuspyspark) (1.8.0)\n",
            "Requirement already satisfied: tensorflow==1.13.1 in /usr/local/lib/python3.6/dist-packages (from optimuspyspark) (1.13.1)\n",
            "Requirement already satisfied: kombu==4.6.1 in /usr/local/lib/python3.6/dist-packages (from optimuspyspark) (4.6.1)\n",
            "Requirement already satisfied: imgkit==1.0.1 in /usr/local/lib/python3.6/dist-packages (from optimuspyspark) (1.0.1)\n",
            "Requirement already satisfied: pygments>=2.2.0 in /usr/local/lib/python3.6/dist-packages (from optimuspyspark) (2.6.1)\n",
            "Requirement already satisfied: multipledispatch==0.6.0 in /usr/local/lib/python3.6/dist-packages (from optimuspyspark) (0.6.0)\n",
            "Requirement already satisfied: pyspark==2.4.1 in /usr/local/lib/python3.6/dist-packages (from optimuspyspark) (2.4.1)\n",
            "Requirement already satisfied: cffi!=1.11.3,>=1.8 in /usr/local/lib/python3.6/dist-packages (from cryptography==2.7->optimuspyspark) (1.14.0)\n",
            "Requirement already satisfied: asn1crypto>=0.21.0 in /usr/local/lib/python3.6/dist-packages (from cryptography==2.7->optimuspyspark) (1.3.0)\n",
            "Requirement already satisfied: six>=1.4.1 in /usr/local/lib/python3.6/dist-packages (from cryptography==2.7->optimuspyspark) (1.12.0)\n",
            "Requirement already satisfied: itsdangerous>=0.24 in /usr/local/lib/python3.6/dist-packages (from flask==1.0.2->optimuspyspark) (1.1.0)\n",
            "Requirement already satisfied: Werkzeug>=0.14 in /usr/local/lib/python3.6/dist-packages (from flask==1.0.2->optimuspyspark) (1.0.1)\n",
            "Requirement already satisfied: click>=5.1 in /usr/local/lib/python3.6/dist-packages (from flask==1.0.2->optimuspyspark) (7.1.2)\n",
            "Requirement already satisfied: certifi>=2017.4.17 in /usr/local/lib/python3.6/dist-packages (from requests==2.20.0->optimuspyspark) (2020.4.5.2)\n",
            "Requirement already satisfied: chardet<3.1.0,>=3.0.2 in /usr/local/lib/python3.6/dist-packages (from requests==2.20.0->optimuspyspark) (3.0.4)\n",
            "Requirement already satisfied: idna<2.8,>=2.5 in /usr/local/lib/python3.6/dist-packages (from requests==2.20.0->optimuspyspark) (2.7)\n",
            "Requirement already satisfied: urllib3<1.25,>=1.21.1 in /usr/local/lib/python3.6/dist-packages (from requests==2.20.0->optimuspyspark) (1.24.3)\n",
            "Requirement already satisfied: python-dateutil>=2.5.0 in /usr/local/lib/python3.6/dist-packages (from pandas==0.24.2->optimuspyspark) (2.8.1)\n",
            "Requirement already satisfied: pytz>=2011k in /usr/local/lib/python3.6/dist-packages (from pandas==0.24.2->optimuspyspark) (2018.9)\n",
            "Requirement already satisfied: scipy>=0.14.0 in /usr/local/lib/python3.6/dist-packages (from seaborn==0.9.0->optimuspyspark) (1.4.1)\n",
            "Requirement already satisfied: decorator in /usr/local/lib/python3.6/dist-packages (from ipython==7.5.0->optimuspyspark) (4.4.2)\n",
            "Requirement already satisfied: backcall in /usr/local/lib/python3.6/dist-packages (from ipython==7.5.0->optimuspyspark) (0.2.0)\n",
            "Requirement already satisfied: jedi>=0.10 in /usr/local/lib/python3.6/dist-packages (from ipython==7.5.0->optimuspyspark) (0.17.0)\n",
            "Requirement already satisfied: pexpect; sys_platform != \"win32\" in /usr/local/lib/python3.6/dist-packages (from ipython==7.5.0->optimuspyspark) (4.8.0)\n",
            "Requirement already satisfied: prompt-toolkit<2.1.0,>=2.0.0 in /usr/local/lib/python3.6/dist-packages (from ipython==7.5.0->optimuspyspark) (2.0.10)\n",
            "Requirement already satisfied: pickleshare in /usr/local/lib/python3.6/dist-packages (from ipython==7.5.0->optimuspyspark) (0.7.5)\n",
            "Requirement already satisfied: traitlets>=4.2 in /usr/local/lib/python3.6/dist-packages (from ipython==7.5.0->optimuspyspark) (4.3.3)\n",
            "Requirement already satisfied: MarkupSafe>=0.23 in /usr/local/lib/python3.6/dist-packages (from Jinja2==2.10.1->optimuspyspark) (1.1.1)\n",
            "Requirement already satisfied: patsy>=0.4.0 in /usr/local/lib/python3.6/dist-packages (from statsmodels==0.10.1->optimuspyspark) (0.5.1)\n",
            "Requirement already satisfied: attrs in /usr/local/lib/python3.6/dist-packages (from packaging==19.1->optimuspyspark) (19.3.0)\n",
            "Requirement already satisfied: pyparsing>=2.0.2 in /usr/local/lib/python3.6/dist-packages (from packaging==19.1->optimuspyspark) (2.4.7)\n",
            "Requirement already satisfied: face in /usr/local/lib/python3.6/dist-packages (from glom==19.10.0->optimuspyspark) (20.1.1)\n",
            "Requirement already satisfied: boltons>=19.3.0 in /usr/local/lib/python3.6/dist-packages (from glom==19.10.0->optimuspyspark) (20.2.0)\n",
            "Requirement already satisfied: kiwisolver>=1.0.1 in /usr/local/lib/python3.6/dist-packages (from matplotlib==3.0.3->optimuspyspark) (1.2.0)\n",
            "Requirement already satisfied: cycler>=0.10 in /usr/local/lib/python3.6/dist-packages (from matplotlib==3.0.3->optimuspyspark) (0.10.0)\n",
            "Requirement already satisfied: future in /usr/local/lib/python3.6/dist-packages (from h2o-pysparkling-2.4==2.4.13->optimuspyspark) (0.16.0)\n",
            "Requirement already satisfied: colorama>=0.3.8 in /usr/local/lib/python3.6/dist-packages (from h2o-pysparkling-2.4==2.4.13->optimuspyspark) (0.4.3)\n",
            "Requirement already satisfied: tabulate in /usr/local/lib/python3.6/dist-packages (from h2o-pysparkling-2.4==2.4.13->optimuspyspark) (0.8.7)\n",
            "Requirement already satisfied: pyyaml in /usr/local/lib/python3.6/dist-packages (from keras==2.2.4->optimuspyspark) (3.13)\n",
            "Requirement already satisfied: h5py in /usr/local/lib/python3.6/dist-packages (from keras==2.2.4->optimuspyspark) (2.10.0)\n",
            "Requirement already satisfied: keras-preprocessing>=1.0.5 in /usr/local/lib/python3.6/dist-packages (from keras==2.2.4->optimuspyspark) (1.1.2)\n",
            "Requirement already satisfied: keras-applications>=1.0.6 in /usr/local/lib/python3.6/dist-packages (from keras==2.2.4->optimuspyspark) (1.0.8)\n",
            "Requirement already satisfied: jsonpickle>=1.0 in /usr/local/lib/python3.6/dist-packages (from deepdiff==4.0.6->optimuspyspark) (1.4.1)\n",
            "Requirement already satisfied: wrapt<2,>=1 in /usr/local/lib/python3.6/dist-packages (from deprecated==1.2.5->optimuspyspark) (1.12.1)\n",
            "Requirement already satisfied: astor>=0.6.0 in /usr/local/lib/python3.6/dist-packages (from tensorflow==1.13.1->optimuspyspark) (0.8.1)\n",
            "Requirement already satisfied: wheel>=0.26 in /usr/local/lib/python3.6/dist-packages (from tensorflow==1.13.1->optimuspyspark) (0.34.2)\n",
            "Requirement already satisfied: termcolor>=1.1.0 in /usr/local/lib/python3.6/dist-packages (from tensorflow==1.13.1->optimuspyspark) (1.1.0)\n",
            "Requirement already satisfied: tensorflow-estimator<1.14.0rc0,>=1.13.0 in /usr/local/lib/python3.6/dist-packages (from tensorflow==1.13.1->optimuspyspark) (1.13.0)\n",
            "Requirement already satisfied: grpcio>=1.8.6 in /usr/local/lib/python3.6/dist-packages (from tensorflow==1.13.1->optimuspyspark) (1.29.0)\n",
            "Requirement already satisfied: gast>=0.2.0 in /usr/local/lib/python3.6/dist-packages (from tensorflow==1.13.1->optimuspyspark) (0.3.3)\n",
            "Requirement already satisfied: absl-py>=0.1.6 in /usr/local/lib/python3.6/dist-packages (from tensorflow==1.13.1->optimuspyspark) (0.9.0)\n",
            "Requirement already satisfied: protobuf>=3.6.1 in /usr/local/lib/python3.6/dist-packages (from tensorflow==1.13.1->optimuspyspark) (3.10.0)\n",
            "Requirement already satisfied: tensorboard<1.14.0,>=1.13.0 in /usr/local/lib/python3.6/dist-packages (from tensorflow==1.13.1->optimuspyspark) (1.13.1)\n",
            "Requirement already satisfied: amqp<3.0,>=2.5.0 in /usr/local/lib/python3.6/dist-packages (from kombu==4.6.1->optimuspyspark) (2.6.0)\n",
            "Requirement already satisfied: py4j==0.10.7 in /usr/local/lib/python3.6/dist-packages (from pyspark==2.4.1->optimuspyspark) (0.10.7)\n",
            "Requirement already satisfied: pycparser in /usr/local/lib/python3.6/dist-packages (from cffi!=1.11.3,>=1.8->cryptography==2.7->optimuspyspark) (2.20)\n",
            "Requirement already satisfied: parso>=0.7.0 in /usr/local/lib/python3.6/dist-packages (from jedi>=0.10->ipython==7.5.0->optimuspyspark) (0.7.0)\n",
            "Requirement already satisfied: ptyprocess>=0.5 in /usr/local/lib/python3.6/dist-packages (from pexpect; sys_platform != \"win32\"->ipython==7.5.0->optimuspyspark) (0.6.0)\n",
            "Requirement already satisfied: wcwidth in /usr/local/lib/python3.6/dist-packages (from prompt-toolkit<2.1.0,>=2.0.0->ipython==7.5.0->optimuspyspark) (0.2.4)\n",
            "Requirement already satisfied: ipython-genutils in /usr/local/lib/python3.6/dist-packages (from traitlets>=4.2->ipython==7.5.0->optimuspyspark) (0.2.0)\n",
            "Requirement already satisfied: importlib-metadata in /usr/local/lib/python3.6/dist-packages (from jsonpickle>=1.0->deepdiff==4.0.6->optimuspyspark) (1.6.1)\n",
            "Requirement already satisfied: mock>=2.0.0 in /usr/local/lib/python3.6/dist-packages (from tensorflow-estimator<1.14.0rc0,>=1.13.0->tensorflow==1.13.1->optimuspyspark) (4.0.2)\n",
            "Requirement already satisfied: markdown>=2.6.8 in /usr/local/lib/python3.6/dist-packages (from tensorboard<1.14.0,>=1.13.0->tensorflow==1.13.1->optimuspyspark) (3.2.2)\n",
            "Requirement already satisfied: vine<5.0.0a1,>=1.1.3 in /usr/local/lib/python3.6/dist-packages (from amqp<3.0,>=2.5.0->kombu==4.6.1->optimuspyspark) (1.3.0)\n",
            "Requirement already satisfied: zipp>=0.5 in /usr/local/lib/python3.6/dist-packages (from importlib-metadata->jsonpickle>=1.0->deepdiff==4.0.6->optimuspyspark) (3.1.0)\n"
          ],
          "name": "stdout"
        }
      ]
    },
    {
      "cell_type": "code",
      "metadata": {
        "id": "IW0bFga1t5Su",
        "colab_type": "code",
        "colab": {}
      },
      "source": [
        "import sys\n",
        "if 'google.colab' in sys.modules:\n",
        "    import os\n",
        "    os.environ[\"JAVA_HOME\"] = \"/usr/lib/jvm/java-8-openjdk-amd64\"\n",
        "    os.environ[\"SPARK_HOME\"] = \"/content/spark-2.4.1-bin-hadoop2.7\""
      ],
      "execution_count": 1,
      "outputs": []
    },
    {
      "cell_type": "code",
      "metadata": {
        "id": "kJ8Y-gGkt6DA",
        "colab_type": "code",
        "colab": {
          "base_uri": "https://localhost:8080/",
          "height": 210
        },
        "outputId": "c68baae2-53f4-4572-a230-33cab58131dc"
      },
      "source": [
        "!pip3 install -qq twint\n",
        "!pip install -qq whatthelang\n",
        "import twint\n",
        "import pandas\n",
        "import nest_asyncio\n",
        "nest_asyncio.apply()\n",
        "from optimus import Optimus\n",
        "op= Optimus(master=\"local[*]\", comm = True)"
      ],
      "execution_count": 5,
      "outputs": [
        {
          "output_type": "stream",
          "text": [
            "  Building wheel for twint (setup.py) ... \u001b[?25l\u001b[?25hdone\n",
            "  Building wheel for fake-useragent (setup.py) ... \u001b[?25l\u001b[?25hdone\n",
            "  Building wheel for googletransx (setup.py) ... \u001b[?25l\u001b[?25hdone\n",
            "\u001b[K     |████████████████████████████████| 788kB 4.8MB/s \n",
            "\u001b[K     |████████████████████████████████| 102kB 9.9MB/s \n",
            "\u001b[K     |████████████████████████████████| 245kB 21.3MB/s \n",
            "\u001b[?25h  Building wheel for whatthelang (setup.py) ... \u001b[?25l\u001b[?25hdone\n",
            "  Building wheel for cysignals (setup.py) ... \u001b[?25l\u001b[?25hdone\n",
            "  Building wheel for pyfasttext (setup.py) ... \u001b[?25l\u001b[?25hdone\n"
          ],
          "name": "stdout"
        },
        {
          "output_type": "display_data",
          "data": {
            "text/html": [
              "Open Bumblebee: <a target='_blank' href ='https://app.hi-bumblebee.com/?session=65fbe7af-150e-4e8c-a243-022a60e4aea7&key=B_EUWPf99MBQvAmX9-M10cU_7D9o5NoGTBFbQrQ5nHM=&view=0'>https://app.hi-bumblebee.com</a><div>If you really care about privacy get your keys in bumblebee.ini and put them<a href ='https://app.hi-bumblebee.com'> here</a></div>"
            ],
            "text/plain": [
              "<IPython.core.display.HTML object>"
            ]
          },
          "metadata": {
            "tags": []
          }
        }
      ]
    },
    {
      "cell_type": "code",
      "metadata": {
        "id": "h-VumhXXt-lo",
        "colab_type": "code",
        "colab": {
          "base_uri": "https://localhost:8080/",
          "height": 463
        },
        "outputId": "601ade73-ded8-4ef4-cf73-85052d71d1fc"
      },
      "source": [
        "c = twint.Config()\n",
        "\n",
        "c.Username = \"realDonaldTrump\"\n",
        "c.Since = \"2020-1-1\"\n",
        "c.Until = \"2020-6-6\"\n",
        "c.Limit = 10\n",
        "\n",
        "\n",
        "\n",
        "c.Custom[\"tweet\"] = [\"username\", \"tweet\"]\n",
        "\n",
        "\n",
        "\n",
        "\n",
        "\n",
        "c.Output = \"tweets.csv\"\n",
        "c.Store_csv = True\n",
        "twint.run.Search(c)"
      ],
      "execution_count": 6,
      "outputs": [
        {
          "output_type": "stream",
          "text": [
            "The object should be created from async function\n",
            "The object should be created from async function\n",
            "The object should be created from async function\n",
            "CRITICAL:root:twint.get:User:'NoneType' object is not subscriptable\n"
          ],
          "name": "stderr"
        },
        {
          "output_type": "stream",
          "text": [
            "1269043981461184514 2020-06-05 23:10:37 UTC <realDonaldTrump> .@MayorBowser is grossly incompetent, and in no way qualified to be running an important city like Washington, D.C. If the great men and women of the National Guard didn’t step forward, she would have looked no better than her counterpart Mayor in Minneapolis!\n",
            "1268998143733051394 2020-06-05 20:08:28 UTC <realDonaldTrump> ...We should be standing up straight and tall, ideally with a salute, or a hand on heart. There are other things you can protest, but not our Great American Flag - NO KNEELING!\n",
            "1268998142860627969 2020-06-05 20:08:28 UTC <realDonaldTrump> I am a big fan of Drew Brees. I think he’s truly one of the greatest quarterbacks, but he should not have taken back his original stance on honoring our magnificent American Flag. OLD GLORY is to be revered, cherished, and flown high...\n",
            "1268966947938590721 2020-06-05 18:04:31 UTC <realDonaldTrump> ...over the last number of nights. If she doesn’t treat these men and women well, then we’ll bring in a different group of men and women!\n",
            "1268966945971417088 2020-06-05 18:04:30 UTC <realDonaldTrump> The incompetent Mayor of Washington, D.C., @MayorBowser, who’s budget is totally out of control and is constantly coming back to us for “handouts”, is now fighting with the National Guard, who saved her from great embarrassment...\n",
            "1268957851810066432 2020-06-05 17:28:22 UTC <realDonaldTrump> I just signed the Paycheck Protection Program Flexibility Act to further improve our VERY POPULAR AND SUCCESSFUL program to help small businesses. THANK YOU to our GREAT REPUBLICAN SENATORS! @senatemajldr @marcorubio @SenatorCollins @SteveDaines @SenThomTillis @SenCoryGardner pic.twitter.com/ooH0NclioX\n",
            "1268943786937397248 2020-06-05 16:32:29 UTC <realDonaldTrump>  pic.twitter.com/MpWGPExQ3E\n",
            "1268943483013943298 2020-06-05 16:31:16 UTC <realDonaldTrump> Greatest Top Five Monthly Jobs Gains in HISTORY. We are #1! pic.twitter.com/Cs8NEFbHG0\n",
            "1268942964992114693 2020-06-05 16:29:13 UTC <realDonaldTrump> “Really great numbers by any standard - UNBELIEVABLE!” @JoeSquawk Joe go it right also!\n",
            "1268890724591964160 2020-06-05 13:01:38 UTC <realDonaldTrump> It is a stunner by any stretch of the imagination! @CNBC\n",
            "1268890135459921921 2020-06-05 12:59:17 UTC <realDonaldTrump> It’s a stupendous number. It’s joyous, let’s call it like it is. The Market was right. It’s stunning! @jimcramer @CNBC\n",
            "1268888880264155136 2020-06-05 12:54:18 UTC <realDonaldTrump> Oh no, the Dems are worried again. The only one that can kill this comeback is Sleepy Joe Biden!\n",
            "1268888049792036867 2020-06-05 12:51:00 UTC <realDonaldTrump> Congratulations to wonderful Charles Payne on having been so optimistic, and therefore correct. Market up BIG!!!\n",
            "1268887468163698698 2020-06-05 12:48:41 UTC <realDonaldTrump> I will be doing a News Conference at 10:00 A.M. on the Jobs Numbers! White House.\n",
            "1268886111130189824 2020-06-05 12:43:18 UTC <realDonaldTrump> This is an AMAZING JOBS REPORT! Edward Lawrence @FoxNews\n",
            "1268885664206073856 2020-06-05 12:41:31 UTC <realDonaldTrump> I am so stunned. I’ve never seen numbers like this and I’ve been doing this for 30 years! Steve M. @MariaBartiromo\n",
            "1268883807375183873 2020-06-05 12:34:09 UTC <realDonaldTrump> THESE NUMBERS ARE INCREDIBLE! @MariaBartiromo\n",
            "1268883561651884032 2020-06-05 12:33:10 UTC <realDonaldTrump> Really Big Jobs Report. Great going President Trump (kidding but true)!\n",
            "1268880321786851336 2020-06-05 12:20:18 UTC <realDonaldTrump> No Contest. Steve blows him away. So important for Montana. I’ll be there to help Steve win big!!! https://twitter.com/SteveDaines/status/1268009585446707200 …\n",
            "1268879488223522816 2020-06-05 12:16:59 UTC <realDonaldTrump> True. Steve is a GREAT SENATOR. Need him badly in Washington. Complete and Total Endorsement! https://twitter.com/SteveDaines/status/1268189778308001792 …\n"
          ],
          "name": "stdout"
        }
      ]
    },
    {
      "cell_type": "markdown",
      "metadata": {
        "id": "YxqNKILRBsgY",
        "colab_type": "text"
      },
      "source": [
        "### Twitter Scraping"
      ]
    },
    {
      "cell_type": "code",
      "metadata": {
        "id": "c19oyYH5uBWw",
        "colab_type": "code",
        "colab": {}
      },
      "source": [
        "import pandas as pd"
      ],
      "execution_count": 7,
      "outputs": []
    },
    {
      "cell_type": "code",
      "metadata": {
        "id": "5-x8_QstuDT6",
        "colab_type": "code",
        "colab": {}
      },
      "source": [
        "data = pd.read_csv(\"tweets.csv\")"
      ],
      "execution_count": 8,
      "outputs": []
    },
    {
      "cell_type": "code",
      "metadata": {
        "id": "8x9s6StHuFEM",
        "colab_type": "code",
        "colab": {
          "base_uri": "https://localhost:8080/",
          "height": 647
        },
        "outputId": "eb8c4c57-4f7c-405f-dae2-9225580e5b0c"
      },
      "source": [
        "data"
      ],
      "execution_count": 9,
      "outputs": [
        {
          "output_type": "execute_result",
          "data": {
            "text/html": [
              "<div>\n",
              "<style scoped>\n",
              "    .dataframe tbody tr th:only-of-type {\n",
              "        vertical-align: middle;\n",
              "    }\n",
              "\n",
              "    .dataframe tbody tr th {\n",
              "        vertical-align: top;\n",
              "    }\n",
              "\n",
              "    .dataframe thead th {\n",
              "        text-align: right;\n",
              "    }\n",
              "</style>\n",
              "<table border=\"1\" class=\"dataframe\">\n",
              "  <thead>\n",
              "    <tr style=\"text-align: right;\">\n",
              "      <th></th>\n",
              "      <th>username</th>\n",
              "      <th>tweet</th>\n",
              "    </tr>\n",
              "  </thead>\n",
              "  <tbody>\n",
              "    <tr>\n",
              "      <th>0</th>\n",
              "      <td>realdonaldtrump</td>\n",
              "      <td>.@MayorBowser is grossly incompetent, and in n...</td>\n",
              "    </tr>\n",
              "    <tr>\n",
              "      <th>1</th>\n",
              "      <td>realdonaldtrump</td>\n",
              "      <td>...We should be standing up straight and tall,...</td>\n",
              "    </tr>\n",
              "    <tr>\n",
              "      <th>2</th>\n",
              "      <td>realdonaldtrump</td>\n",
              "      <td>I am a big fan of Drew Brees. I think he’s tru...</td>\n",
              "    </tr>\n",
              "    <tr>\n",
              "      <th>3</th>\n",
              "      <td>realdonaldtrump</td>\n",
              "      <td>...over the last number of nights. If she does...</td>\n",
              "    </tr>\n",
              "    <tr>\n",
              "      <th>4</th>\n",
              "      <td>realdonaldtrump</td>\n",
              "      <td>The incompetent Mayor of Washington, D.C., @Ma...</td>\n",
              "    </tr>\n",
              "    <tr>\n",
              "      <th>5</th>\n",
              "      <td>realdonaldtrump</td>\n",
              "      <td>I just signed the Paycheck Protection Program ...</td>\n",
              "    </tr>\n",
              "    <tr>\n",
              "      <th>6</th>\n",
              "      <td>realdonaldtrump</td>\n",
              "      <td>pic.twitter.com/MpWGPExQ3E</td>\n",
              "    </tr>\n",
              "    <tr>\n",
              "      <th>7</th>\n",
              "      <td>realdonaldtrump</td>\n",
              "      <td>Greatest Top Five Monthly Jobs Gains in HISTOR...</td>\n",
              "    </tr>\n",
              "    <tr>\n",
              "      <th>8</th>\n",
              "      <td>realdonaldtrump</td>\n",
              "      <td>“Really great numbers by any standard - UNBELI...</td>\n",
              "    </tr>\n",
              "    <tr>\n",
              "      <th>9</th>\n",
              "      <td>realdonaldtrump</td>\n",
              "      <td>It is a stunner by any stretch of the imaginat...</td>\n",
              "    </tr>\n",
              "    <tr>\n",
              "      <th>10</th>\n",
              "      <td>realdonaldtrump</td>\n",
              "      <td>It’s a stupendous number. It’s joyous, let’s c...</td>\n",
              "    </tr>\n",
              "    <tr>\n",
              "      <th>11</th>\n",
              "      <td>realdonaldtrump</td>\n",
              "      <td>Oh no, the Dems are worried again. The only on...</td>\n",
              "    </tr>\n",
              "    <tr>\n",
              "      <th>12</th>\n",
              "      <td>realdonaldtrump</td>\n",
              "      <td>Congratulations to wonderful Charles Payne on ...</td>\n",
              "    </tr>\n",
              "    <tr>\n",
              "      <th>13</th>\n",
              "      <td>realdonaldtrump</td>\n",
              "      <td>I will be doing a News Conference at 10:00 A.M...</td>\n",
              "    </tr>\n",
              "    <tr>\n",
              "      <th>14</th>\n",
              "      <td>realdonaldtrump</td>\n",
              "      <td>This is an AMAZING JOBS REPORT! Edward Lawrenc...</td>\n",
              "    </tr>\n",
              "    <tr>\n",
              "      <th>15</th>\n",
              "      <td>realdonaldtrump</td>\n",
              "      <td>I am so stunned. I’ve never seen numbers like ...</td>\n",
              "    </tr>\n",
              "    <tr>\n",
              "      <th>16</th>\n",
              "      <td>realdonaldtrump</td>\n",
              "      <td>THESE NUMBERS ARE INCREDIBLE! @MariaBartiromo</td>\n",
              "    </tr>\n",
              "    <tr>\n",
              "      <th>17</th>\n",
              "      <td>realdonaldtrump</td>\n",
              "      <td>Really Big Jobs Report. Great going President ...</td>\n",
              "    </tr>\n",
              "    <tr>\n",
              "      <th>18</th>\n",
              "      <td>realdonaldtrump</td>\n",
              "      <td>No Contest. Steve blows him away. So important...</td>\n",
              "    </tr>\n",
              "    <tr>\n",
              "      <th>19</th>\n",
              "      <td>realdonaldtrump</td>\n",
              "      <td>True. Steve is a GREAT SENATOR. Need him badly...</td>\n",
              "    </tr>\n",
              "  </tbody>\n",
              "</table>\n",
              "</div>"
            ],
            "text/plain": [
              "           username                                              tweet\n",
              "0   realdonaldtrump  .@MayorBowser is grossly incompetent, and in n...\n",
              "1   realdonaldtrump  ...We should be standing up straight and tall,...\n",
              "2   realdonaldtrump  I am a big fan of Drew Brees. I think he’s tru...\n",
              "3   realdonaldtrump  ...over the last number of nights. If she does...\n",
              "4   realdonaldtrump  The incompetent Mayor of Washington, D.C., @Ma...\n",
              "5   realdonaldtrump  I just signed the Paycheck Protection Program ...\n",
              "6   realdonaldtrump                         pic.twitter.com/MpWGPExQ3E\n",
              "7   realdonaldtrump  Greatest Top Five Monthly Jobs Gains in HISTOR...\n",
              "8   realdonaldtrump  “Really great numbers by any standard - UNBELI...\n",
              "9   realdonaldtrump  It is a stunner by any stretch of the imaginat...\n",
              "10  realdonaldtrump  It’s a stupendous number. It’s joyous, let’s c...\n",
              "11  realdonaldtrump  Oh no, the Dems are worried again. The only on...\n",
              "12  realdonaldtrump  Congratulations to wonderful Charles Payne on ...\n",
              "13  realdonaldtrump  I will be doing a News Conference at 10:00 A.M...\n",
              "14  realdonaldtrump  This is an AMAZING JOBS REPORT! Edward Lawrenc...\n",
              "15  realdonaldtrump  I am so stunned. I’ve never seen numbers like ...\n",
              "16  realdonaldtrump      THESE NUMBERS ARE INCREDIBLE! @MariaBartiromo\n",
              "17  realdonaldtrump  Really Big Jobs Report. Great going President ...\n",
              "18  realdonaldtrump  No Contest. Steve blows him away. So important...\n",
              "19  realdonaldtrump  True. Steve is a GREAT SENATOR. Need him badly..."
            ]
          },
          "metadata": {
            "tags": []
          },
          "execution_count": 9
        }
      ]
    },
    {
      "cell_type": "code",
      "metadata": {
        "id": "lWcEk8obuF-V",
        "colab_type": "code",
        "colab": {}
      },
      "source": [
        "df_pd = data"
      ],
      "execution_count": 10,
      "outputs": []
    },
    {
      "cell_type": "code",
      "metadata": {
        "id": "bjmbx0KPuII_",
        "colab_type": "code",
        "colab": {}
      },
      "source": [
        "df = op.create.data_frame(pdf= df_pd)"
      ],
      "execution_count": 11,
      "outputs": []
    },
    {
      "cell_type": "code",
      "metadata": {
        "id": "gHDGWHknuK1Y",
        "colab_type": "code",
        "colab": {}
      },
      "source": [
        "clean_tweets = df.cols.remove_accents(\"tweet\") \\\n",
        "                 .cols.remove_special_chars(\"tweet\")"
      ],
      "execution_count": 12,
      "outputs": []
    },
    {
      "cell_type": "code",
      "metadata": {
        "id": "DTG8L1kauNwC",
        "colab_type": "code",
        "colab": {
          "base_uri": "https://localhost:8080/",
          "height": 34
        },
        "outputId": "1736db2c-0bea-4535-dc70-0f999e262d49"
      },
      "source": [
        "clean_tweets.count()"
      ],
      "execution_count": 13,
      "outputs": [
        {
          "output_type": "execute_result",
          "data": {
            "text/plain": [
              "20"
            ]
          },
          "metadata": {
            "tags": []
          },
          "execution_count": 13
        }
      ]
    },
    {
      "cell_type": "code",
      "metadata": {
        "id": "hS6JBb-BuRCf",
        "colab_type": "code",
        "colab": {}
      },
      "source": [
        "tweets = clean_tweets.select(\"tweet\").rdd.flatMap(lambda x: x).collect()"
      ],
      "execution_count": 14,
      "outputs": []
    },
    {
      "cell_type": "code",
      "metadata": {
        "id": "gPSkIsfjuTHJ",
        "colab_type": "code",
        "colab": {
          "base_uri": "https://localhost:8080/",
          "height": 392
        },
        "outputId": "62f240ba-f434-45fb-f65a-ef1bd4db458f"
      },
      "source": [
        "tweets"
      ],
      "execution_count": 15,
      "outputs": [
        {
          "output_type": "execute_result",
          "data": {
            "text/plain": [
              "['MayorBowser is grossly incompetent and in no way qualified to be running an important city like Washington DC If the great men and women of the National Guard didn’t step forward she would have looked no better than her counterpart Mayor in Minneapolis',\n",
              " 'We should be standing up straight and tall ideally with a salute or a hand on heart There are other things you can protest but not our Great American Flag  NO KNEELING',\n",
              " 'I am a big fan of Drew Brees I think he’s truly one of the greatest quarterbacks but he should not have taken back his original stance on honoring our magnificent American Flag OLD GLORY is to be revered cherished and flown high',\n",
              " 'over the last number of nights If she doesn’t treat these men and women well then we’ll bring in a different group of men and women',\n",
              " 'The incompetent Mayor of Washington DC MayorBowser who’s budget is totally out of control and is constantly coming back to us for “handouts” is now fighting with the National Guard who saved her from great embarrassment',\n",
              " 'I just signed the Paycheck Protection Program Flexibility Act to further improve our VERY POPULAR AND SUCCESSFUL program to help small businesses THANK YOU to our GREAT REPUBLICAN SENATORS senatemajldr marcorubio SenatorCollins SteveDaines SenThomTillis SenCoryGardner pictwittercomooH0NclioX',\n",
              " ' pictwittercomMpWGPExQ3E',\n",
              " 'Greatest Top Five Monthly Jobs Gains in HISTORY We are 1 pictwittercomCs8NEFbHG0',\n",
              " '“Really great numbers by any standard  UNBELIEVABLE” JoeSquawk Joe go it right also',\n",
              " 'It is a stunner by any stretch of the imagination CNBC',\n",
              " 'It’s a stupendous number It’s joyous let’s call it like it is The Market was right It’s stunning jimcramer CNBC',\n",
              " 'Oh no the Dems are worried again The only one that can kill this comeback is Sleepy Joe Biden',\n",
              " 'Congratulations to wonderful Charles Payne on having been so optimistic and therefore correct Market up BIG',\n",
              " 'I will be doing a News Conference at 1000 AM on the Jobs Numbers White House',\n",
              " 'This is an AMAZING JOBS REPORT Edward Lawrence FoxNews',\n",
              " 'I am so stunned I’ve never seen numbers like this and I’ve been doing this for 30 years Steve M MariaBartiromo',\n",
              " 'THESE NUMBERS ARE INCREDIBLE MariaBartiromo',\n",
              " 'Really Big Jobs Report Great going President Trump kidding but true',\n",
              " 'No Contest Steve blows him away So important for Montana I’ll be there to help Steve win big httpstwittercomSteveDainesstatus1268009585446707200 ',\n",
              " 'True Steve is a GREAT SENATOR Need him badly in Washington Complete and Total Endorsement httpstwittercomSteveDainesstatus1268189778308001792 ']"
            ]
          },
          "metadata": {
            "tags": []
          },
          "execution_count": 15
        }
      ]
    },
    {
      "cell_type": "markdown",
      "metadata": {
        "id": "vq4WrvDRBzbx",
        "colab_type": "text"
      },
      "source": [
        "### Text Mining"
      ]
    },
    {
      "cell_type": "code",
      "metadata": {
        "id": "kvc6Wdyq3Aif",
        "colab_type": "code",
        "colab": {}
      },
      "source": [
        "import nltk\n",
        "import twint\n",
        "import pandas as pd"
      ],
      "execution_count": 17,
      "outputs": []
    },
    {
      "cell_type": "code",
      "metadata": {
        "id": "_9C_vcPs3YMi",
        "colab_type": "code",
        "colab": {
          "base_uri": "https://localhost:8080/",
          "height": 34
        },
        "outputId": "b997262c-eece-4e28-c232-885fbdfaf492"
      },
      "source": [
        "type(tweets)\n",
        "len(tweets)"
      ],
      "execution_count": 19,
      "outputs": [
        {
          "output_type": "execute_result",
          "data": {
            "text/plain": [
              "20"
            ]
          },
          "metadata": {
            "tags": []
          },
          "execution_count": 19
        }
      ]
    },
    {
      "cell_type": "markdown",
      "metadata": {
        "id": "Wrjn2tYR4M-J",
        "colab_type": "text"
      },
      "source": [
        "## Preprocessing the tweets"
      ]
    },
    {
      "cell_type": "code",
      "metadata": {
        "id": "8ELSqN8t4Txi",
        "colab_type": "code",
        "colab": {
          "base_uri": "https://localhost:8080/",
          "height": 70
        },
        "outputId": "e20405e9-cd3c-4035-d82e-6091a3d7b0c3"
      },
      "source": [
        "nltk.download('punkt')\n"
      ],
      "execution_count": 28,
      "outputs": [
        {
          "output_type": "stream",
          "text": [
            "[nltk_data] Downloading package punkt to /root/nltk_data...\n",
            "[nltk_data]   Unzipping tokenizers/punkt.zip.\n"
          ],
          "name": "stdout"
        },
        {
          "output_type": "execute_result",
          "data": {
            "text/plain": [
              "True"
            ]
          },
          "metadata": {
            "tags": []
          },
          "execution_count": 28
        }
      ]
    },
    {
      "cell_type": "code",
      "metadata": {
        "id": "p8wrK4_d4kvB",
        "colab_type": "code",
        "colab": {}
      },
      "source": [
        "from nltk import word_tokenize\n",
        "tokenized=word_tokenize(tweets[0])"
      ],
      "execution_count": 33,
      "outputs": []
    },
    {
      "cell_type": "markdown",
      "metadata": {
        "id": "48XeczFU5Nib",
        "colab_type": "text"
      },
      "source": [
        "## Tagging and Lemmatization \n",
        "\n"
      ]
    },
    {
      "cell_type": "markdown",
      "metadata": {
        "id": "K4nQySuq5b8h",
        "colab_type": "text"
      },
      "source": [
        "We will be tagging words from tweets tu use the lemmatization and get rid of extras\n",
        "First let's open the tagset"
      ]
    },
    {
      "cell_type": "code",
      "metadata": {
        "id": "SkWTen4h5Uy4",
        "colab_type": "code",
        "colab": {
          "base_uri": "https://localhost:8080/",
          "height": 70
        },
        "outputId": "705c0c52-f905-421b-9e3e-d5d6f88d64e4"
      },
      "source": [
        "nltk.download(\"tagsets\")"
      ],
      "execution_count": 31,
      "outputs": [
        {
          "output_type": "stream",
          "text": [
            "[nltk_data] Downloading package tagsets to /root/nltk_data...\n",
            "[nltk_data]   Unzipping help/tagsets.zip.\n"
          ],
          "name": "stdout"
        },
        {
          "output_type": "execute_result",
          "data": {
            "text/plain": [
              "True"
            ]
          },
          "metadata": {
            "tags": []
          },
          "execution_count": 31
        }
      ]
    },
    {
      "cell_type": "code",
      "metadata": {
        "id": "VSJnzdak5jpu",
        "colab_type": "code",
        "colab": {
          "base_uri": "https://localhost:8080/",
          "height": 1000
        },
        "outputId": "3ca4f628-b809-4db8-d0ba-ef64cebe8288"
      },
      "source": [
        "nltk.help.upenn_tagset()"
      ],
      "execution_count": 32,
      "outputs": [
        {
          "output_type": "stream",
          "text": [
            "$: dollar\n",
            "    $ -$ --$ A$ C$ HK$ M$ NZ$ S$ U.S.$ US$\n",
            "'': closing quotation mark\n",
            "    ' ''\n",
            "(: opening parenthesis\n",
            "    ( [ {\n",
            "): closing parenthesis\n",
            "    ) ] }\n",
            ",: comma\n",
            "    ,\n",
            "--: dash\n",
            "    --\n",
            ".: sentence terminator\n",
            "    . ! ?\n",
            ":: colon or ellipsis\n",
            "    : ; ...\n",
            "CC: conjunction, coordinating\n",
            "    & 'n and both but either et for less minus neither nor or plus so\n",
            "    therefore times v. versus vs. whether yet\n",
            "CD: numeral, cardinal\n",
            "    mid-1890 nine-thirty forty-two one-tenth ten million 0.5 one forty-\n",
            "    seven 1987 twenty '79 zero two 78-degrees eighty-four IX '60s .025\n",
            "    fifteen 271,124 dozen quintillion DM2,000 ...\n",
            "DT: determiner\n",
            "    all an another any both del each either every half la many much nary\n",
            "    neither no some such that the them these this those\n",
            "EX: existential there\n",
            "    there\n",
            "FW: foreign word\n",
            "    gemeinschaft hund ich jeux habeas Haementeria Herr K'ang-si vous\n",
            "    lutihaw alai je jour objets salutaris fille quibusdam pas trop Monte\n",
            "    terram fiche oui corporis ...\n",
            "IN: preposition or conjunction, subordinating\n",
            "    astride among uppon whether out inside pro despite on by throughout\n",
            "    below within for towards near behind atop around if like until below\n",
            "    next into if beside ...\n",
            "JJ: adjective or numeral, ordinal\n",
            "    third ill-mannered pre-war regrettable oiled calamitous first separable\n",
            "    ectoplasmic battery-powered participatory fourth still-to-be-named\n",
            "    multilingual multi-disciplinary ...\n",
            "JJR: adjective, comparative\n",
            "    bleaker braver breezier briefer brighter brisker broader bumper busier\n",
            "    calmer cheaper choosier cleaner clearer closer colder commoner costlier\n",
            "    cozier creamier crunchier cuter ...\n",
            "JJS: adjective, superlative\n",
            "    calmest cheapest choicest classiest cleanest clearest closest commonest\n",
            "    corniest costliest crassest creepiest crudest cutest darkest deadliest\n",
            "    dearest deepest densest dinkiest ...\n",
            "LS: list item marker\n",
            "    A A. B B. C C. D E F First G H I J K One SP-44001 SP-44002 SP-44005\n",
            "    SP-44007 Second Third Three Two * a b c d first five four one six three\n",
            "    two\n",
            "MD: modal auxiliary\n",
            "    can cannot could couldn't dare may might must need ought shall should\n",
            "    shouldn't will would\n",
            "NN: noun, common, singular or mass\n",
            "    common-carrier cabbage knuckle-duster Casino afghan shed thermostat\n",
            "    investment slide humour falloff slick wind hyena override subhumanity\n",
            "    machinist ...\n",
            "NNP: noun, proper, singular\n",
            "    Motown Venneboerger Czestochwa Ranzer Conchita Trumplane Christos\n",
            "    Oceanside Escobar Kreisler Sawyer Cougar Yvette Ervin ODI Darryl CTCA\n",
            "    Shannon A.K.C. Meltex Liverpool ...\n",
            "NNPS: noun, proper, plural\n",
            "    Americans Americas Amharas Amityvilles Amusements Anarcho-Syndicalists\n",
            "    Andalusians Andes Andruses Angels Animals Anthony Antilles Antiques\n",
            "    Apache Apaches Apocrypha ...\n",
            "NNS: noun, common, plural\n",
            "    undergraduates scotches bric-a-brac products bodyguards facets coasts\n",
            "    divestitures storehouses designs clubs fragrances averages\n",
            "    subjectivists apprehensions muses factory-jobs ...\n",
            "PDT: pre-determiner\n",
            "    all both half many quite such sure this\n",
            "POS: genitive marker\n",
            "    ' 's\n",
            "PRP: pronoun, personal\n",
            "    hers herself him himself hisself it itself me myself one oneself ours\n",
            "    ourselves ownself self she thee theirs them themselves they thou thy us\n",
            "PRP$: pronoun, possessive\n",
            "    her his mine my our ours their thy your\n",
            "RB: adverb\n",
            "    occasionally unabatingly maddeningly adventurously professedly\n",
            "    stirringly prominently technologically magisterially predominately\n",
            "    swiftly fiscally pitilessly ...\n",
            "RBR: adverb, comparative\n",
            "    further gloomier grander graver greater grimmer harder harsher\n",
            "    healthier heavier higher however larger later leaner lengthier less-\n",
            "    perfectly lesser lonelier longer louder lower more ...\n",
            "RBS: adverb, superlative\n",
            "    best biggest bluntest earliest farthest first furthest hardest\n",
            "    heartiest highest largest least less most nearest second tightest worst\n",
            "RP: particle\n",
            "    aboard about across along apart around aside at away back before behind\n",
            "    by crop down ever fast for forth from go high i.e. in into just later\n",
            "    low more off on open out over per pie raising start teeth that through\n",
            "    under unto up up-pp upon whole with you\n",
            "SYM: symbol\n",
            "    % & ' '' ''. ) ). * + ,. < = > @ A[fj] U.S U.S.S.R * ** ***\n",
            "TO: \"to\" as preposition or infinitive marker\n",
            "    to\n",
            "UH: interjection\n",
            "    Goodbye Goody Gosh Wow Jeepers Jee-sus Hubba Hey Kee-reist Oops amen\n",
            "    huh howdy uh dammit whammo shucks heck anyways whodunnit honey golly\n",
            "    man baby diddle hush sonuvabitch ...\n",
            "VB: verb, base form\n",
            "    ask assemble assess assign assume atone attention avoid bake balkanize\n",
            "    bank begin behold believe bend benefit bevel beware bless boil bomb\n",
            "    boost brace break bring broil brush build ...\n",
            "VBD: verb, past tense\n",
            "    dipped pleaded swiped regummed soaked tidied convened halted registered\n",
            "    cushioned exacted snubbed strode aimed adopted belied figgered\n",
            "    speculated wore appreciated contemplated ...\n",
            "VBG: verb, present participle or gerund\n",
            "    telegraphing stirring focusing angering judging stalling lactating\n",
            "    hankerin' alleging veering capping approaching traveling besieging\n",
            "    encrypting interrupting erasing wincing ...\n",
            "VBN: verb, past participle\n",
            "    multihulled dilapidated aerosolized chaired languished panelized used\n",
            "    experimented flourished imitated reunifed factored condensed sheared\n",
            "    unsettled primed dubbed desired ...\n",
            "VBP: verb, present tense, not 3rd person singular\n",
            "    predominate wrap resort sue twist spill cure lengthen brush terminate\n",
            "    appear tend stray glisten obtain comprise detest tease attract\n",
            "    emphasize mold postpone sever return wag ...\n",
            "VBZ: verb, present tense, 3rd person singular\n",
            "    bases reconstructs marks mixes displeases seals carps weaves snatches\n",
            "    slumps stretches authorizes smolders pictures emerges stockpiles\n",
            "    seduces fizzes uses bolsters slaps speaks pleads ...\n",
            "WDT: WH-determiner\n",
            "    that what whatever which whichever\n",
            "WP: WH-pronoun\n",
            "    that what whatever whatsoever which who whom whosoever\n",
            "WP$: WH-pronoun, possessive\n",
            "    whose\n",
            "WRB: Wh-adverb\n",
            "    how however whence whenever where whereby whereever wherein whereof why\n",
            "``: opening quotation mark\n",
            "    ` ``\n"
          ],
          "name": "stdout"
        }
      ]
    },
    {
      "cell_type": "code",
      "metadata": {
        "id": "Fs72oQ4A5_8v",
        "colab_type": "code",
        "colab": {
          "base_uri": "https://localhost:8080/",
          "height": 70
        },
        "outputId": "d8388c23-53be-46c6-d28e-d76e5a3837c3"
      },
      "source": [
        "nltk.download('averaged_perceptron_tagger')\n",
        "from nltk import pos_tag"
      ],
      "execution_count": 35,
      "outputs": [
        {
          "output_type": "stream",
          "text": [
            "[nltk_data] Downloading package averaged_perceptron_tagger to\n",
            "[nltk_data]     /root/nltk_data...\n",
            "[nltk_data]   Unzipping taggers/averaged_perceptron_tagger.zip.\n"
          ],
          "name": "stdout"
        }
      ]
    },
    {
      "cell_type": "code",
      "metadata": {
        "id": "Odvarmke5v2G",
        "colab_type": "code",
        "colab": {
          "base_uri": "https://localhost:8080/",
          "height": 816
        },
        "outputId": "42b50479-fe41-4085-c680-de4297ba3454"
      },
      "source": [
        "tagtokenized=pos_tag(tokenized)\n",
        "tagtokenized"
      ],
      "execution_count": 37,
      "outputs": [
        {
          "output_type": "execute_result",
          "data": {
            "text/plain": [
              "[('MayorBowser', 'NNP'),\n",
              " ('is', 'VBZ'),\n",
              " ('grossly', 'RB'),\n",
              " ('incompetent', 'JJ'),\n",
              " ('and', 'CC'),\n",
              " ('in', 'IN'),\n",
              " ('no', 'DT'),\n",
              " ('way', 'NN'),\n",
              " ('qualified', 'VBD'),\n",
              " ('to', 'TO'),\n",
              " ('be', 'VB'),\n",
              " ('running', 'VBG'),\n",
              " ('an', 'DT'),\n",
              " ('important', 'JJ'),\n",
              " ('city', 'NN'),\n",
              " ('like', 'IN'),\n",
              " ('Washington', 'NNP'),\n",
              " ('DC', 'NNP'),\n",
              " ('If', 'IN'),\n",
              " ('the', 'DT'),\n",
              " ('great', 'JJ'),\n",
              " ('men', 'NNS'),\n",
              " ('and', 'CC'),\n",
              " ('women', 'NNS'),\n",
              " ('of', 'IN'),\n",
              " ('the', 'DT'),\n",
              " ('National', 'NNP'),\n",
              " ('Guard', 'NNP'),\n",
              " ('didn', 'VBZ'),\n",
              " ('’', 'NNP'),\n",
              " ('t', 'JJ'),\n",
              " ('step', 'NN'),\n",
              " ('forward', 'RB'),\n",
              " ('she', 'PRP'),\n",
              " ('would', 'MD'),\n",
              " ('have', 'VB'),\n",
              " ('looked', 'VBN'),\n",
              " ('no', 'DT'),\n",
              " ('better', 'JJR'),\n",
              " ('than', 'IN'),\n",
              " ('her', 'PRP$'),\n",
              " ('counterpart', 'JJ'),\n",
              " ('Mayor', 'NNP'),\n",
              " ('in', 'IN'),\n",
              " ('Minneapolis', 'NNP')]"
            ]
          },
          "metadata": {
            "tags": []
          },
          "execution_count": 37
        }
      ]
    },
    {
      "cell_type": "code",
      "metadata": {
        "id": "HAGpRHvg6IKh",
        "colab_type": "code",
        "colab": {
          "base_uri": "https://localhost:8080/",
          "height": 70
        },
        "outputId": "d538b61a-fe54-412d-cbc1-85d42e45df37"
      },
      "source": [
        "nltk.download('wordnet')"
      ],
      "execution_count": 38,
      "outputs": [
        {
          "output_type": "stream",
          "text": [
            "[nltk_data] Downloading package wordnet to /root/nltk_data...\n",
            "[nltk_data]   Unzipping corpora/wordnet.zip.\n"
          ],
          "name": "stdout"
        },
        {
          "output_type": "execute_result",
          "data": {
            "text/plain": [
              "True"
            ]
          },
          "metadata": {
            "tags": []
          },
          "execution_count": 38
        }
      ]
    },
    {
      "cell_type": "code",
      "metadata": {
        "id": "nOdxLd5H6M2M",
        "colab_type": "code",
        "colab": {}
      },
      "source": [
        "from nltk import WordNetLemmatizer"
      ],
      "execution_count": 39,
      "outputs": []
    },
    {
      "cell_type": "code",
      "metadata": {
        "id": "MklArxCu6Rh5",
        "colab_type": "code",
        "colab": {}
      },
      "source": [
        "def tweetlemmatizer(sentence):\n",
        "    lem= WordNetLemmatizer()\n",
        "    L= []\n",
        "    for word, tag in pos_tag(sentence):\n",
        "        if tag.startswith('NN'): ##for noun\n",
        "            pos = 'n'\n",
        "        elif tag.startswith('VB'): ##for verb \n",
        "            pos = 'v'\n",
        "        else:\n",
        "            pos = 'a'\n",
        "        L.append(lem.lemmatize(word, pos))\n",
        "    return L"
      ],
      "execution_count": 40,
      "outputs": []
    },
    {
      "cell_type": "code",
      "metadata": {
        "id": "y6G2jTcS6jmM",
        "colab_type": "code",
        "colab": {
          "base_uri": "https://localhost:8080/",
          "height": 816
        },
        "outputId": "753a8186-fa03-4181-b08b-25906ad8680b"
      },
      "source": [
        "tweetlemmatizer(tokenized)"
      ],
      "execution_count": 41,
      "outputs": [
        {
          "output_type": "execute_result",
          "data": {
            "text/plain": [
              "['MayorBowser',\n",
              " 'be',\n",
              " 'grossly',\n",
              " 'incompetent',\n",
              " 'and',\n",
              " 'in',\n",
              " 'no',\n",
              " 'way',\n",
              " 'qualify',\n",
              " 'to',\n",
              " 'be',\n",
              " 'run',\n",
              " 'an',\n",
              " 'important',\n",
              " 'city',\n",
              " 'like',\n",
              " 'Washington',\n",
              " 'DC',\n",
              " 'If',\n",
              " 'the',\n",
              " 'great',\n",
              " 'men',\n",
              " 'and',\n",
              " 'woman',\n",
              " 'of',\n",
              " 'the',\n",
              " 'National',\n",
              " 'Guard',\n",
              " 'didn',\n",
              " '’',\n",
              " 't',\n",
              " 'step',\n",
              " 'forward',\n",
              " 'she',\n",
              " 'would',\n",
              " 'have',\n",
              " 'look',\n",
              " 'no',\n",
              " 'good',\n",
              " 'than',\n",
              " 'her',\n",
              " 'counterpart',\n",
              " 'Mayor',\n",
              " 'in',\n",
              " 'Minneapolis']"
            ]
          },
          "metadata": {
            "tags": []
          },
          "execution_count": 41
        }
      ]
    },
    {
      "cell_type": "markdown",
      "metadata": {
        "id": "ndMXr2w863du",
        "colab_type": "text"
      },
      "source": [
        "### Noise Removal"
      ]
    },
    {
      "cell_type": "code",
      "metadata": {
        "id": "PjePdxlp7LMb",
        "colab_type": "code",
        "colab": {
          "base_uri": "https://localhost:8080/",
          "height": 70
        },
        "outputId": "29ba6414-220b-480d-e5d7-5b193186c411"
      },
      "source": [
        "nltk.download('stopwords')"
      ],
      "execution_count": 42,
      "outputs": [
        {
          "output_type": "stream",
          "text": [
            "[nltk_data] Downloading package stopwords to /root/nltk_data...\n",
            "[nltk_data]   Unzipping corpora/stopwords.zip.\n"
          ],
          "name": "stdout"
        },
        {
          "output_type": "execute_result",
          "data": {
            "text/plain": [
              "True"
            ]
          },
          "metadata": {
            "tags": []
          },
          "execution_count": 42
        }
      ]
    },
    {
      "cell_type": "code",
      "metadata": {
        "id": "4mr8Zp0a7RNn",
        "colab_type": "code",
        "colab": {
          "base_uri": "https://localhost:8080/",
          "height": 54
        },
        "outputId": "963e77bb-fa18-4ec0-f682-92a0f8555fd2"
      },
      "source": [
        "from nltk.corpus import stopwords\n",
        "stop_words = stopwords.words('english')\n",
        "print(stop_words)"
      ],
      "execution_count": 44,
      "outputs": [
        {
          "output_type": "stream",
          "text": [
            "['i', 'me', 'my', 'myself', 'we', 'our', 'ours', 'ourselves', 'you', \"you're\", \"you've\", \"you'll\", \"you'd\", 'your', 'yours', 'yourself', 'yourselves', 'he', 'him', 'his', 'himself', 'she', \"she's\", 'her', 'hers', 'herself', 'it', \"it's\", 'its', 'itself', 'they', 'them', 'their', 'theirs', 'themselves', 'what', 'which', 'who', 'whom', 'this', 'that', \"that'll\", 'these', 'those', 'am', 'is', 'are', 'was', 'were', 'be', 'been', 'being', 'have', 'has', 'had', 'having', 'do', 'does', 'did', 'doing', 'a', 'an', 'the', 'and', 'but', 'if', 'or', 'because', 'as', 'until', 'while', 'of', 'at', 'by', 'for', 'with', 'about', 'against', 'between', 'into', 'through', 'during', 'before', 'after', 'above', 'below', 'to', 'from', 'up', 'down', 'in', 'out', 'on', 'off', 'over', 'under', 'again', 'further', 'then', 'once', 'here', 'there', 'when', 'where', 'why', 'how', 'all', 'any', 'both', 'each', 'few', 'more', 'most', 'other', 'some', 'such', 'no', 'nor', 'not', 'only', 'own', 'same', 'so', 'than', 'too', 'very', 's', 't', 'can', 'will', 'just', 'don', \"don't\", 'should', \"should've\", 'now', 'd', 'll', 'm', 'o', 're', 've', 'y', 'ain', 'aren', \"aren't\", 'couldn', \"couldn't\", 'didn', \"didn't\", 'doesn', \"doesn't\", 'hadn', \"hadn't\", 'hasn', \"hasn't\", 'haven', \"haven't\", 'isn', \"isn't\", 'ma', 'mightn', \"mightn't\", 'mustn', \"mustn't\", 'needn', \"needn't\", 'shan', \"shan't\", 'shouldn', \"shouldn't\", 'wasn', \"wasn't\", 'weren', \"weren't\", 'won', \"won't\", 'wouldn', \"wouldn't\"]\n"
          ],
          "name": "stdout"
        }
      ]
    },
    {
      "cell_type": "code",
      "metadata": {
        "id": "u6FsA6DP7aHx",
        "colab_type": "code",
        "colab": {}
      },
      "source": [
        "def stopwords_removal(tokens):\n",
        "    \n",
        "    for word in tokens : \n",
        "        if word.lower() in stop_words:\n",
        "            tokens.remove(word)\n",
        "    return tokens"
      ],
      "execution_count": 46,
      "outputs": []
    },
    {
      "cell_type": "code",
      "metadata": {
        "id": "_PMxD4Q_7mUa",
        "colab_type": "code",
        "colab": {
          "base_uri": "https://localhost:8080/",
          "height": 550
        },
        "outputId": "815f8e16-1ff3-45f7-e9c3-67c09c5eef1b"
      },
      "source": [
        "stopwords_removal(tokenized)"
      ],
      "execution_count": 47,
      "outputs": [
        {
          "output_type": "execute_result",
          "data": {
            "text/plain": [
              "['MayorBowser',\n",
              " 'grossly',\n",
              " 'incompetent',\n",
              " 'way',\n",
              " 'qualified',\n",
              " 'be',\n",
              " 'running',\n",
              " 'important',\n",
              " 'city',\n",
              " 'like',\n",
              " 'Washington',\n",
              " 'DC',\n",
              " 'the',\n",
              " 'great',\n",
              " 'men',\n",
              " 'women',\n",
              " 'the',\n",
              " 'National',\n",
              " 'Guard',\n",
              " '’',\n",
              " 'step',\n",
              " 'forward',\n",
              " 'would',\n",
              " 'looked',\n",
              " 'better',\n",
              " 'her',\n",
              " 'counterpart',\n",
              " 'Mayor',\n",
              " 'in',\n",
              " 'Minneapolis']"
            ]
          },
          "metadata": {
            "tags": []
          },
          "execution_count": 47
        }
      ]
    },
    {
      "cell_type": "code",
      "metadata": {
        "id": "n8-W44NT8EPV",
        "colab_type": "code",
        "colab": {}
      },
      "source": [
        "def noise_removal(tokens):\n",
        "    lem= WordNetLemmatizer()\n",
        "    L= []\n",
        "    for word, tag in pos_tag(tokens):\n",
        "       \n",
        "            \n",
        "   \n",
        "        if tag.startswith('NN'): ##for noun\n",
        "            pos = 'n'\n",
        "        elif tag.startswith('VB'): ##for verb \n",
        "            pos = 'v'\n",
        "        else:\n",
        "            pos = 'a'\n",
        "        word=lem.lemmatize(word, pos) ##normalization \n",
        "        \n",
        "        \n",
        "        if word.lower() not in stop_words:\n",
        "            L.append(word)\n",
        "    return L"
      ],
      "execution_count": 48,
      "outputs": []
    },
    {
      "cell_type": "code",
      "metadata": {
        "id": "GfRXeKH_8azF",
        "colab_type": "code",
        "colab": {
          "base_uri": "https://localhost:8080/",
          "height": 461
        },
        "outputId": "1dc0604a-3de5-48f1-f23a-1310e2101fab"
      },
      "source": [
        "noise_removal(tokenized)"
      ],
      "execution_count": 50,
      "outputs": [
        {
          "output_type": "execute_result",
          "data": {
            "text/plain": [
              "['MayorBowser',\n",
              " 'grossly',\n",
              " 'incompetent',\n",
              " 'way',\n",
              " 'qualify',\n",
              " 'run',\n",
              " 'important',\n",
              " 'city',\n",
              " 'like',\n",
              " 'Washington',\n",
              " 'DC',\n",
              " 'great',\n",
              " 'men',\n",
              " 'woman',\n",
              " 'National',\n",
              " 'Guard',\n",
              " '’',\n",
              " 'step',\n",
              " 'forward',\n",
              " 'would',\n",
              " 'look',\n",
              " 'good',\n",
              " 'counterpart',\n",
              " 'Mayor',\n",
              " 'Minneapolis']"
            ]
          },
          "metadata": {
            "tags": []
          },
          "execution_count": 50
        }
      ]
    },
    {
      "cell_type": "markdown",
      "metadata": {
        "id": "4ZYEoefN8qpg",
        "colab_type": "text"
      },
      "source": [
        "Apply noise removal on all tweets\n"
      ]
    },
    {
      "cell_type": "code",
      "metadata": {
        "id": "qAwXd8z689lk",
        "colab_type": "code",
        "colab": {
          "base_uri": "https://localhost:8080/",
          "height": 1000
        },
        "outputId": "7345805d-29db-4a25-e29b-fbd87fab1310"
      },
      "source": [
        "tokenizedtweets=[word_tokenize(i) for i in tweets]\n",
        "tokenizedtweets                "
      ],
      "execution_count": 70,
      "outputs": [
        {
          "output_type": "execute_result",
          "data": {
            "text/plain": [
              "[['MayorBowser',\n",
              "  'is',\n",
              "  'grossly',\n",
              "  'incompetent',\n",
              "  'and',\n",
              "  'in',\n",
              "  'no',\n",
              "  'way',\n",
              "  'qualified',\n",
              "  'to',\n",
              "  'be',\n",
              "  'running',\n",
              "  'an',\n",
              "  'important',\n",
              "  'city',\n",
              "  'like',\n",
              "  'Washington',\n",
              "  'DC',\n",
              "  'If',\n",
              "  'the',\n",
              "  'great',\n",
              "  'men',\n",
              "  'and',\n",
              "  'women',\n",
              "  'of',\n",
              "  'the',\n",
              "  'National',\n",
              "  'Guard',\n",
              "  'didn',\n",
              "  '’',\n",
              "  't',\n",
              "  'step',\n",
              "  'forward',\n",
              "  'she',\n",
              "  'would',\n",
              "  'have',\n",
              "  'looked',\n",
              "  'no',\n",
              "  'better',\n",
              "  'than',\n",
              "  'her',\n",
              "  'counterpart',\n",
              "  'Mayor',\n",
              "  'in',\n",
              "  'Minneapolis'],\n",
              " ['We',\n",
              "  'should',\n",
              "  'be',\n",
              "  'standing',\n",
              "  'up',\n",
              "  'straight',\n",
              "  'and',\n",
              "  'tall',\n",
              "  'ideally',\n",
              "  'with',\n",
              "  'a',\n",
              "  'salute',\n",
              "  'or',\n",
              "  'a',\n",
              "  'hand',\n",
              "  'on',\n",
              "  'heart',\n",
              "  'There',\n",
              "  'are',\n",
              "  'other',\n",
              "  'things',\n",
              "  'you',\n",
              "  'can',\n",
              "  'protest',\n",
              "  'but',\n",
              "  'not',\n",
              "  'our',\n",
              "  'Great',\n",
              "  'American',\n",
              "  'Flag',\n",
              "  'NO',\n",
              "  'KNEELING'],\n",
              " ['I',\n",
              "  'am',\n",
              "  'a',\n",
              "  'big',\n",
              "  'fan',\n",
              "  'of',\n",
              "  'Drew',\n",
              "  'Brees',\n",
              "  'I',\n",
              "  'think',\n",
              "  'he',\n",
              "  '’',\n",
              "  's',\n",
              "  'truly',\n",
              "  'one',\n",
              "  'of',\n",
              "  'the',\n",
              "  'greatest',\n",
              "  'quarterbacks',\n",
              "  'but',\n",
              "  'he',\n",
              "  'should',\n",
              "  'not',\n",
              "  'have',\n",
              "  'taken',\n",
              "  'back',\n",
              "  'his',\n",
              "  'original',\n",
              "  'stance',\n",
              "  'on',\n",
              "  'honoring',\n",
              "  'our',\n",
              "  'magnificent',\n",
              "  'American',\n",
              "  'Flag',\n",
              "  'OLD',\n",
              "  'GLORY',\n",
              "  'is',\n",
              "  'to',\n",
              "  'be',\n",
              "  'revered',\n",
              "  'cherished',\n",
              "  'and',\n",
              "  'flown',\n",
              "  'high'],\n",
              " ['over',\n",
              "  'the',\n",
              "  'last',\n",
              "  'number',\n",
              "  'of',\n",
              "  'nights',\n",
              "  'If',\n",
              "  'she',\n",
              "  'doesn',\n",
              "  '’',\n",
              "  't',\n",
              "  'treat',\n",
              "  'these',\n",
              "  'men',\n",
              "  'and',\n",
              "  'women',\n",
              "  'well',\n",
              "  'then',\n",
              "  'we',\n",
              "  '’',\n",
              "  'll',\n",
              "  'bring',\n",
              "  'in',\n",
              "  'a',\n",
              "  'different',\n",
              "  'group',\n",
              "  'of',\n",
              "  'men',\n",
              "  'and',\n",
              "  'women'],\n",
              " ['The',\n",
              "  'incompetent',\n",
              "  'Mayor',\n",
              "  'of',\n",
              "  'Washington',\n",
              "  'DC',\n",
              "  'MayorBowser',\n",
              "  'who',\n",
              "  '’',\n",
              "  's',\n",
              "  'budget',\n",
              "  'is',\n",
              "  'totally',\n",
              "  'out',\n",
              "  'of',\n",
              "  'control',\n",
              "  'and',\n",
              "  'is',\n",
              "  'constantly',\n",
              "  'coming',\n",
              "  'back',\n",
              "  'to',\n",
              "  'us',\n",
              "  'for',\n",
              "  '“',\n",
              "  'handouts',\n",
              "  '”',\n",
              "  'is',\n",
              "  'now',\n",
              "  'fighting',\n",
              "  'with',\n",
              "  'the',\n",
              "  'National',\n",
              "  'Guard',\n",
              "  'who',\n",
              "  'saved',\n",
              "  'her',\n",
              "  'from',\n",
              "  'great',\n",
              "  'embarrassment'],\n",
              " ['I',\n",
              "  'just',\n",
              "  'signed',\n",
              "  'the',\n",
              "  'Paycheck',\n",
              "  'Protection',\n",
              "  'Program',\n",
              "  'Flexibility',\n",
              "  'Act',\n",
              "  'to',\n",
              "  'further',\n",
              "  'improve',\n",
              "  'our',\n",
              "  'VERY',\n",
              "  'POPULAR',\n",
              "  'AND',\n",
              "  'SUCCESSFUL',\n",
              "  'program',\n",
              "  'to',\n",
              "  'help',\n",
              "  'small',\n",
              "  'businesses',\n",
              "  'THANK',\n",
              "  'YOU',\n",
              "  'to',\n",
              "  'our',\n",
              "  'GREAT',\n",
              "  'REPUBLICAN',\n",
              "  'SENATORS',\n",
              "  'senatemajldr',\n",
              "  'marcorubio',\n",
              "  'SenatorCollins',\n",
              "  'SteveDaines',\n",
              "  'SenThomTillis',\n",
              "  'SenCoryGardner',\n",
              "  'pictwittercomooH0NclioX'],\n",
              " ['pictwittercomMpWGPExQ3E'],\n",
              " ['Greatest',\n",
              "  'Top',\n",
              "  'Five',\n",
              "  'Monthly',\n",
              "  'Jobs',\n",
              "  'Gains',\n",
              "  'in',\n",
              "  'HISTORY',\n",
              "  'We',\n",
              "  'are',\n",
              "  '1',\n",
              "  'pictwittercomCs8NEFbHG0'],\n",
              " ['“',\n",
              "  'Really',\n",
              "  'great',\n",
              "  'numbers',\n",
              "  'by',\n",
              "  'any',\n",
              "  'standard',\n",
              "  'UNBELIEVABLE',\n",
              "  '”',\n",
              "  'JoeSquawk',\n",
              "  'Joe',\n",
              "  'go',\n",
              "  'it',\n",
              "  'right',\n",
              "  'also'],\n",
              " ['It',\n",
              "  'is',\n",
              "  'a',\n",
              "  'stunner',\n",
              "  'by',\n",
              "  'any',\n",
              "  'stretch',\n",
              "  'of',\n",
              "  'the',\n",
              "  'imagination',\n",
              "  'CNBC'],\n",
              " ['It',\n",
              "  '’',\n",
              "  's',\n",
              "  'a',\n",
              "  'stupendous',\n",
              "  'number',\n",
              "  'It',\n",
              "  '’',\n",
              "  's',\n",
              "  'joyous',\n",
              "  'let',\n",
              "  '’',\n",
              "  's',\n",
              "  'call',\n",
              "  'it',\n",
              "  'like',\n",
              "  'it',\n",
              "  'is',\n",
              "  'The',\n",
              "  'Market',\n",
              "  'was',\n",
              "  'right',\n",
              "  'It',\n",
              "  '’',\n",
              "  's',\n",
              "  'stunning',\n",
              "  'jimcramer',\n",
              "  'CNBC'],\n",
              " ['Oh',\n",
              "  'no',\n",
              "  'the',\n",
              "  'Dems',\n",
              "  'are',\n",
              "  'worried',\n",
              "  'again',\n",
              "  'The',\n",
              "  'only',\n",
              "  'one',\n",
              "  'that',\n",
              "  'can',\n",
              "  'kill',\n",
              "  'this',\n",
              "  'comeback',\n",
              "  'is',\n",
              "  'Sleepy',\n",
              "  'Joe',\n",
              "  'Biden'],\n",
              " ['Congratulations',\n",
              "  'to',\n",
              "  'wonderful',\n",
              "  'Charles',\n",
              "  'Payne',\n",
              "  'on',\n",
              "  'having',\n",
              "  'been',\n",
              "  'so',\n",
              "  'optimistic',\n",
              "  'and',\n",
              "  'therefore',\n",
              "  'correct',\n",
              "  'Market',\n",
              "  'up',\n",
              "  'BIG'],\n",
              " ['I',\n",
              "  'will',\n",
              "  'be',\n",
              "  'doing',\n",
              "  'a',\n",
              "  'News',\n",
              "  'Conference',\n",
              "  'at',\n",
              "  '1000',\n",
              "  'AM',\n",
              "  'on',\n",
              "  'the',\n",
              "  'Jobs',\n",
              "  'Numbers',\n",
              "  'White',\n",
              "  'House'],\n",
              " ['This',\n",
              "  'is',\n",
              "  'an',\n",
              "  'AMAZING',\n",
              "  'JOBS',\n",
              "  'REPORT',\n",
              "  'Edward',\n",
              "  'Lawrence',\n",
              "  'FoxNews'],\n",
              " ['I',\n",
              "  'am',\n",
              "  'so',\n",
              "  'stunned',\n",
              "  'I',\n",
              "  '’',\n",
              "  've',\n",
              "  'never',\n",
              "  'seen',\n",
              "  'numbers',\n",
              "  'like',\n",
              "  'this',\n",
              "  'and',\n",
              "  'I',\n",
              "  '’',\n",
              "  've',\n",
              "  'been',\n",
              "  'doing',\n",
              "  'this',\n",
              "  'for',\n",
              "  '30',\n",
              "  'years',\n",
              "  'Steve',\n",
              "  'M',\n",
              "  'MariaBartiromo'],\n",
              " ['THESE', 'NUMBERS', 'ARE', 'INCREDIBLE', 'MariaBartiromo'],\n",
              " ['Really',\n",
              "  'Big',\n",
              "  'Jobs',\n",
              "  'Report',\n",
              "  'Great',\n",
              "  'going',\n",
              "  'President',\n",
              "  'Trump',\n",
              "  'kidding',\n",
              "  'but',\n",
              "  'true'],\n",
              " ['No',\n",
              "  'Contest',\n",
              "  'Steve',\n",
              "  'blows',\n",
              "  'him',\n",
              "  'away',\n",
              "  'So',\n",
              "  'important',\n",
              "  'for',\n",
              "  'Montana',\n",
              "  'I',\n",
              "  '’',\n",
              "  'll',\n",
              "  'be',\n",
              "  'there',\n",
              "  'to',\n",
              "  'help',\n",
              "  'Steve',\n",
              "  'win',\n",
              "  'big',\n",
              "  'httpstwittercomSteveDainesstatus1268009585446707200'],\n",
              " ['True',\n",
              "  'Steve',\n",
              "  'is',\n",
              "  'a',\n",
              "  'GREAT',\n",
              "  'SENATOR',\n",
              "  'Need',\n",
              "  'him',\n",
              "  'badly',\n",
              "  'in',\n",
              "  'Washington',\n",
              "  'Complete',\n",
              "  'and',\n",
              "  'Total',\n",
              "  'Endorsement',\n",
              "  'httpstwittercomSteveDainesstatus1268189778308001792']]"
            ]
          },
          "metadata": {
            "tags": []
          },
          "execution_count": 70
        }
      ]
    },
    {
      "cell_type": "code",
      "metadata": {
        "id": "H2SVXioG8tpo",
        "colab_type": "code",
        "colab": {}
      },
      "source": [
        "cleantokens = [noise_removal(tokens) for tokens in tokenizedtweets]"
      ],
      "execution_count": 71,
      "outputs": []
    },
    {
      "cell_type": "code",
      "metadata": {
        "id": "0j9t5nx5_9qX",
        "colab_type": "code",
        "colab": {
          "base_uri": "https://localhost:8080/",
          "height": 1000
        },
        "outputId": "637dbad4-8381-4e8c-dd4d-bd63db980bf2"
      },
      "source": [
        "cleantokens"
      ],
      "execution_count": 72,
      "outputs": [
        {
          "output_type": "execute_result",
          "data": {
            "text/plain": [
              "[['MayorBowser',\n",
              "  'grossly',\n",
              "  'incompetent',\n",
              "  'way',\n",
              "  'qualify',\n",
              "  'run',\n",
              "  'important',\n",
              "  'city',\n",
              "  'like',\n",
              "  'Washington',\n",
              "  'DC',\n",
              "  'great',\n",
              "  'men',\n",
              "  'woman',\n",
              "  'National',\n",
              "  'Guard',\n",
              "  '’',\n",
              "  'step',\n",
              "  'forward',\n",
              "  'would',\n",
              "  'look',\n",
              "  'good',\n",
              "  'counterpart',\n",
              "  'Mayor',\n",
              "  'Minneapolis'],\n",
              " ['stand',\n",
              "  'straight',\n",
              "  'tall',\n",
              "  'ideally',\n",
              "  'salute',\n",
              "  'hand',\n",
              "  'heart',\n",
              "  'thing',\n",
              "  'protest',\n",
              "  'Great',\n",
              "  'American',\n",
              "  'Flag',\n",
              "  'KNEELING'],\n",
              " ['big',\n",
              "  'fan',\n",
              "  'Drew',\n",
              "  'Brees',\n",
              "  'think',\n",
              "  '’',\n",
              "  'truly',\n",
              "  'one',\n",
              "  'great',\n",
              "  'quarterback',\n",
              "  'take',\n",
              "  'back',\n",
              "  'original',\n",
              "  'stance',\n",
              "  'honor',\n",
              "  'magnificent',\n",
              "  'American',\n",
              "  'Flag',\n",
              "  'OLD',\n",
              "  'GLORY',\n",
              "  'revere',\n",
              "  'cherished',\n",
              "  'flown',\n",
              "  'high'],\n",
              " ['last',\n",
              "  'number',\n",
              "  'night',\n",
              "  '’',\n",
              "  'treat',\n",
              "  'men',\n",
              "  'woman',\n",
              "  'well',\n",
              "  '’',\n",
              "  'bring',\n",
              "  'different',\n",
              "  'group',\n",
              "  'men',\n",
              "  'woman'],\n",
              " ['incompetent',\n",
              "  'Mayor',\n",
              "  'Washington',\n",
              "  'DC',\n",
              "  'MayorBowser',\n",
              "  '’',\n",
              "  'budget',\n",
              "  'totally',\n",
              "  'control',\n",
              "  'constantly',\n",
              "  'come',\n",
              "  'back',\n",
              "  'us',\n",
              "  '“',\n",
              "  'handout',\n",
              "  '”',\n",
              "  'fight',\n",
              "  'National',\n",
              "  'Guard',\n",
              "  'save',\n",
              "  'great',\n",
              "  'embarrassment'],\n",
              " ['sign',\n",
              "  'Paycheck',\n",
              "  'Protection',\n",
              "  'Program',\n",
              "  'Flexibility',\n",
              "  'Act',\n",
              "  'improve',\n",
              "  'POPULAR',\n",
              "  'SUCCESSFUL',\n",
              "  'program',\n",
              "  'help',\n",
              "  'small',\n",
              "  'business',\n",
              "  'THANK',\n",
              "  'GREAT',\n",
              "  'REPUBLICAN',\n",
              "  'SENATORS',\n",
              "  'senatemajldr',\n",
              "  'marcorubio',\n",
              "  'SenatorCollins',\n",
              "  'SteveDaines',\n",
              "  'SenThomTillis',\n",
              "  'SenCoryGardner',\n",
              "  'pictwittercomooH0NclioX'],\n",
              " ['pictwittercomMpWGPExQ3E'],\n",
              " ['Greatest',\n",
              "  'Top',\n",
              "  'Five',\n",
              "  'Monthly',\n",
              "  'Jobs',\n",
              "  'Gains',\n",
              "  'HISTORY',\n",
              "  '1',\n",
              "  'pictwittercomCs8NEFbHG0'],\n",
              " ['“',\n",
              "  'Really',\n",
              "  'great',\n",
              "  'number',\n",
              "  'standard',\n",
              "  'UNBELIEVABLE',\n",
              "  '”',\n",
              "  'JoeSquawk',\n",
              "  'Joe',\n",
              "  'go',\n",
              "  'right',\n",
              "  'also'],\n",
              " ['stunner', 'stretch', 'imagination', 'CNBC'],\n",
              " ['’',\n",
              "  'stupendous',\n",
              "  'number',\n",
              "  '’',\n",
              "  'joyous',\n",
              "  'let',\n",
              "  '’',\n",
              "  'call',\n",
              "  'like',\n",
              "  'Market',\n",
              "  'right',\n",
              "  '’',\n",
              "  'stun',\n",
              "  'jimcramer',\n",
              "  'CNBC'],\n",
              " ['Oh',\n",
              "  'Dems',\n",
              "  'worried',\n",
              "  'one',\n",
              "  'kill',\n",
              "  'comeback',\n",
              "  'Sleepy',\n",
              "  'Joe',\n",
              "  'Biden'],\n",
              " ['Congratulations',\n",
              "  'wonderful',\n",
              "  'Charles',\n",
              "  'Payne',\n",
              "  'optimistic',\n",
              "  'therefore',\n",
              "  'correct',\n",
              "  'Market',\n",
              "  'BIG'],\n",
              " ['News', 'Conference', '1000', 'Jobs', 'Numbers', 'White', 'House'],\n",
              " ['AMAZING', 'JOBS', 'REPORT', 'Edward', 'Lawrence', 'FoxNews'],\n",
              " ['stunned',\n",
              "  '’',\n",
              "  'never',\n",
              "  'see',\n",
              "  'number',\n",
              "  'like',\n",
              "  '’',\n",
              "  '30',\n",
              "  'year',\n",
              "  'Steve',\n",
              "  'MariaBartiromo'],\n",
              " ['NUMBERS', 'INCREDIBLE', 'MariaBartiromo'],\n",
              " ['Really',\n",
              "  'Big',\n",
              "  'Jobs',\n",
              "  'Report',\n",
              "  'Great',\n",
              "  'go',\n",
              "  'President',\n",
              "  'Trump',\n",
              "  'kid',\n",
              "  'true'],\n",
              " ['Contest',\n",
              "  'Steve',\n",
              "  'blow',\n",
              "  'away',\n",
              "  'important',\n",
              "  'Montana',\n",
              "  '’',\n",
              "  'help',\n",
              "  'Steve',\n",
              "  'win',\n",
              "  'big',\n",
              "  'httpstwittercomSteveDainesstatus1268009585446707200'],\n",
              " ['True',\n",
              "  'Steve',\n",
              "  'GREAT',\n",
              "  'SENATOR',\n",
              "  'Need',\n",
              "  'badly',\n",
              "  'Washington',\n",
              "  'Complete',\n",
              "  'Total',\n",
              "  'Endorsement',\n",
              "  'httpstwittercomSteveDainesstatus1268189778308001792']]"
            ]
          },
          "metadata": {
            "tags": []
          },
          "execution_count": 72
        }
      ]
    },
    {
      "cell_type": "code",
      "metadata": {
        "id": "sGP6P0Ku9fJm",
        "colab_type": "code",
        "colab": {
          "base_uri": "https://localhost:8080/",
          "height": 34
        },
        "outputId": "f347bdf0-9546-4946-e376-8fa7a8f0c6c6"
      },
      "source": [
        "len(cleantokens[0])"
      ],
      "execution_count": 56,
      "outputs": [
        {
          "output_type": "execute_result",
          "data": {
            "text/plain": [
              "151"
            ]
          },
          "metadata": {
            "tags": []
          },
          "execution_count": 56
        }
      ]
    },
    {
      "cell_type": "markdown",
      "metadata": {
        "id": "frB1GBcA91vZ",
        "colab_type": "text"
      },
      "source": [
        "Occurance des mots\n"
      ]
    },
    {
      "cell_type": "code",
      "metadata": {
        "id": "Z28attrU9rwI",
        "colab_type": "code",
        "colab": {}
      },
      "source": [
        "all_words = []\n",
        "\n",
        "for cleantweet in cleantokens:\n",
        "    for token in cleantweet:\n",
        "        all_words.append(token)"
      ],
      "execution_count": 73,
      "outputs": []
    },
    {
      "cell_type": "code",
      "metadata": {
        "id": "a6fzS8Z799WM",
        "colab_type": "code",
        "colab": {
          "base_uri": "https://localhost:8080/",
          "height": 194
        },
        "outputId": "ead962f8-5e6d-4e9b-ac5e-1f515b09b1fa"
      },
      "source": [
        "freq_dist = nltk.FreqDist(all_words)\n",
        "freq_dist.most_common(10)"
      ],
      "execution_count": 74,
      "outputs": [
        {
          "output_type": "execute_result",
          "data": {
            "text/plain": [
              "[('’', 12),\n",
              " ('great', 4),\n",
              " ('number', 4),\n",
              " ('Steve', 4),\n",
              " ('like', 3),\n",
              " ('Washington', 3),\n",
              " ('men', 3),\n",
              " ('woman', 3),\n",
              " ('Jobs', 3),\n",
              " ('MayorBowser', 2)]"
            ]
          },
          "metadata": {
            "tags": []
          },
          "execution_count": 74
        }
      ]
    },
    {
      "cell_type": "code",
      "metadata": {
        "id": "gXawp8Fg-NWB",
        "colab_type": "code",
        "colab": {
          "base_uri": "https://localhost:8080/",
          "height": 268
        },
        "outputId": "6e19bfb5-5970-401d-85b3-9067dd67c752"
      },
      "source": [
        "import matplotlib.pyplot as plt\n",
        "\n",
        "items = freq_dist.most_common(10)\n",
        "\n",
        "labels, values = zip(*items)\n",
        "width = 0.75\n",
        "\n",
        "plt.bar(labels, values, width, align='center', )\n",
        "\n",
        "plt.show()"
      ],
      "execution_count": 75,
      "outputs": [
        {
          "output_type": "display_data",
          "data": {
            "image/png": "[encoded data removed]",
            "text/plain": [
              "<Figure size 432x288 with 1 Axes>"
            ]
          },
          "metadata": {
            "tags": [],
            "needs_background": "light"
          }
        }
      ]
    },
    {
      "cell_type": "markdown",
      "metadata": {
        "id": "aMfjSD9F-SJk",
        "colab_type": "text"
      },
      "source": [
        "### Named Entity Recognition"
      ]
    },
    {
      "cell_type": "code",
      "metadata": {
        "id": "SGcSYhgp-Z5D",
        "colab_type": "code",
        "colab": {
          "base_uri": "https://localhost:8080/",
          "height": 123
        },
        "outputId": "135ac0ea-ff5e-4e9a-ee4b-1797a5637615"
      },
      "source": [
        "nltk.download('maxent_ne_chunker')\n",
        "nltk.download('words')"
      ],
      "execution_count": 76,
      "outputs": [
        {
          "output_type": "stream",
          "text": [
            "[nltk_data] Downloading package maxent_ne_chunker to\n",
            "[nltk_data]     /root/nltk_data...\n",
            "[nltk_data]   Package maxent_ne_chunker is already up-to-date!\n",
            "[nltk_data] Downloading package words to /root/nltk_data...\n",
            "[nltk_data]   Package words is already up-to-date!\n"
          ],
          "name": "stdout"
        },
        {
          "output_type": "execute_result",
          "data": {
            "text/plain": [
              "True"
            ]
          },
          "metadata": {
            "tags": []
          },
          "execution_count": 76
        }
      ]
    },
    {
      "cell_type": "code",
      "metadata": {
        "id": "aN3eanYA-drS",
        "colab_type": "code",
        "colab": {}
      },
      "source": [
        "from nltk import ne_chunk, pos_tag\n",
        "chunked = ne_chunk(pos_tag(cleantokens[10]))"
      ],
      "execution_count": 84,
      "outputs": []
    },
    {
      "cell_type": "code",
      "metadata": {
        "id": "KgTtidbE-pbr",
        "colab_type": "code",
        "colab": {
          "base_uri": "https://localhost:8080/",
          "height": 34
        },
        "outputId": "6710002d-bbda-4a44-fddb-9d2fe314c1ab"
      },
      "source": [
        "type(chunked)"
      ],
      "execution_count": 85,
      "outputs": [
        {
          "output_type": "execute_result",
          "data": {
            "text/plain": [
              "nltk.tree.Tree"
            ]
          },
          "metadata": {
            "tags": []
          },
          "execution_count": 85
        }
      ]
    },
    {
      "cell_type": "code",
      "metadata": {
        "id": "2iNP4i3r-s2h",
        "colab_type": "code",
        "colab": {}
      },
      "source": [
        "from collections import defaultdict\n",
        "\n",
        "named_entities = defaultdict(list)\n",
        "\n",
        "for node in chunked:\n",
        "    # Check if node is a Tree\n",
        "    # If not a tree, ignore\n",
        "    if type(node) is nltk.tree.Tree:\n",
        "        # Get the type of entity\n",
        "        label = node.label()\n",
        "        entity = node[0][0]\n",
        "        named_entities[label].append(entity)"
      ],
      "execution_count": 86,
      "outputs": []
    },
    {
      "cell_type": "code",
      "metadata": {
        "id": "h6R0hfA5-vkk",
        "colab_type": "code",
        "colab": {
          "base_uri": "https://localhost:8080/",
          "height": 34
        },
        "outputId": "663327ae-e813-4eb6-cfa1-9e7b89f0e14f"
      },
      "source": [
        "named_entities"
      ],
      "execution_count": 87,
      "outputs": [
        {
          "output_type": "execute_result",
          "data": {
            "text/plain": [
              "defaultdict(list, {'PERSON': ['Market'], 'ORGANIZATION': ['CNBC']})"
            ]
          },
          "metadata": {
            "tags": []
          },
          "execution_count": 87
        }
      ]
    },
    {
      "cell_type": "code",
      "metadata": {
        "id": "s56rUBgBAzRK",
        "colab_type": "code",
        "colab": {
          "base_uri": "https://localhost:8080/",
          "height": 34
        },
        "outputId": "99430f47-9e27-4476-f65c-41b7cc7851ec"
      },
      "source": [
        "tweets[10]"
      ],
      "execution_count": 88,
      "outputs": [
        {
          "output_type": "execute_result",
          "data": {
            "text/plain": [
              "'It’s a stupendous number It’s joyous let’s call it like it is The Market was right It’s stunning jimcramer CNBC'"
            ]
          },
          "metadata": {
            "tags": []
          },
          "execution_count": 88
        }
      ]
    }
  ]
}